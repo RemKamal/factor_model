{
 "cells": [
  {
   "cell_type": "markdown",
   "metadata": {},
   "source": [
    "# Multi-factor Model\n",
    "---\n",
    "\n",
    "This project is a production ready prototype model that \n",
    "  - builds a cross-sectional statistical risk model using PCA, which is used to build a portfolio along with a number of momentum, mean reversion, and sentiment alpha factors \n",
    "  \n",
    "<img src=\"assets/explained_variance.PNG\" alt=\"drawing\" width=\"300px\"/> \n",
    "\n",
    "<img src=\"assets/factor_returns.PNG\" alt=\"drawing\" width=\"300px\"/>\n",
    "\n",
    "  - universe: US equities, top 500 in terms of dollar volume\n",
    "  - evaluates the alpha factors, combining the promising signals into a single alpha vector <br/> \n",
    "  \n",
    "<img src=\"assets/factor_returns_quantile.PNG\" alt=\"drawing\" width=\"600px\"/>\n",
    "\n",
    "  - evaluates a number of approaches to constructing the optimal portfolio given objective/constraints \n",
    "  \n",
    "<img src=\"assets/port_holdings.PNG\" alt=\"drawing\" width=\"300px\"/> \n",
    "\n",
    "<img src=\"assets/port_risk_exposures.PNG\" alt=\"drawing\" width=\"300px\"/>\n",
    "  \n",
    "**note:** uses end of day pricing data from Quotemedia and sector data from Sharadar, which could not be shared due to licensing restrictions"
   ]
  }
 ],
 "metadata": {
  "kernelspec": {
   "display_name": "Python 3",
   "language": "python",
   "name": "python3"
  },
  "language_info": {
   "codemirror_mode": {
    "name": "ipython",
    "version": 3
   },
   "file_extension": ".py",
   "mimetype": "text/x-python",
   "name": "python",
   "nbconvert_exporter": "python",
   "pygments_lexer": "ipython3",
   "version": "3.6.6"
  },
  "toc": {
   "base_numbering": 1,
   "nav_menu": {},
   "number_sections": false,
   "sideBar": true,
   "skip_h1_title": false,
   "title_cell": "Table of Contents",
   "title_sidebar": "Contents",
   "toc_cell": false,
   "toc_position": {
    "height": "calc(100% - 180px)",
    "left": "10px",
    "top": "150px",
    "width": "426.667px"
   },
   "toc_section_display": true,
   "toc_window_display": false
  }
 },
 "nbformat": 4,
 "nbformat_minor": 2
}
