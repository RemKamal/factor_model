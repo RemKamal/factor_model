{
 "cells": [
  {
   "cell_type": "markdown",
   "metadata": {
    "toc": true
   },
   "source": [
    "<h1>Muti-factor Model<span class=\"tocSkip\"></span></h1>\n",
    "<div class=\"toc\"><ul class=\"toc-item\"><li><span><a href=\"#Data-Bundle-&amp;-Pipeline-Engine\" data-toc-modified-id=\"Data-Bundle-&amp;-Pipeline-Engine-1\"><span class=\"toc-item-num\">1&nbsp;&nbsp;</span>Data Bundle &amp; Pipeline Engine</a></span></li><li><span><a href=\"#Statistical-Risk-Model\" data-toc-modified-id=\"Statistical-Risk-Model-2\"><span class=\"toc-item-num\">2&nbsp;&nbsp;</span>Statistical Risk Model</a></span><ul class=\"toc-item\"><li><span><a href=\"#Fit-PCA\" data-toc-modified-id=\"Fit-PCA-2.1\"><span class=\"toc-item-num\">2.1&nbsp;&nbsp;</span>Fit PCA</a></span></li><li><span><a href=\"#Factor-Betas/Exposures---$\\mathbf{B}$\" data-toc-modified-id=\"Factor-Betas/Exposures---$\\mathbf{B}$-2.2\"><span class=\"toc-item-num\">2.2&nbsp;&nbsp;</span>Factor Betas/Exposures - $\\mathbf{B}$</a></span></li><li><span><a href=\"#Factor-Returns---$\\mathbf{f}$\" data-toc-modified-id=\"Factor-Returns---$\\mathbf{f}$-2.3\"><span class=\"toc-item-num\">2.3&nbsp;&nbsp;</span>Factor Returns - $\\mathbf{f}$</a></span></li><li><span><a href=\"#Factor-Covariance-Matrix---$\\mathbf{F}$\" data-toc-modified-id=\"Factor-Covariance-Matrix---$\\mathbf{F}$-2.4\"><span class=\"toc-item-num\">2.4&nbsp;&nbsp;</span>Factor Covariance Matrix - $\\mathbf{F}$</a></span></li><li><span><a href=\"#Idiosyncratic-Variance-Matrix---$\\mathbf{S}$\" data-toc-modified-id=\"Idiosyncratic-Variance-Matrix---$\\mathbf{S}$-2.5\"><span class=\"toc-item-num\">2.5&nbsp;&nbsp;</span>Idiosyncratic Variance Matrix - $\\mathbf{S}$</a></span></li><li><span><a href=\"#Idiosyncratic-Variance-Vector\" data-toc-modified-id=\"Idiosyncratic-Variance-Vector-2.6\"><span class=\"toc-item-num\">2.6&nbsp;&nbsp;</span>Idiosyncratic Variance Vector</a></span></li><li><span><a href=\"#Portfolio-Risk\" data-toc-modified-id=\"Portfolio-Risk-2.7\"><span class=\"toc-item-num\">2.7&nbsp;&nbsp;</span>Portfolio Risk</a></span></li></ul></li><li><span><a href=\"#Alpha-Factors\" data-toc-modified-id=\"Alpha-Factors-3\"><span class=\"toc-item-num\">3&nbsp;&nbsp;</span>Alpha Factors</a></span><ul class=\"toc-item\"><li><span><a href=\"#Adding-the-Factors-to-Pipeline\" data-toc-modified-id=\"Adding-the-Factors-to-Pipeline-3.1\"><span class=\"toc-item-num\">3.1&nbsp;&nbsp;</span>Adding the Factors to Pipeline</a></span></li></ul></li><li><span><a href=\"#Alpha-Factor-Evaluation\" data-toc-modified-id=\"Alpha-Factor-Evaluation-4\"><span class=\"toc-item-num\">4&nbsp;&nbsp;</span>Alpha Factor Evaluation</a></span><ul class=\"toc-item\"><li><span><a href=\"#Quantile-Analysis\" data-toc-modified-id=\"Quantile-Analysis-4.1\"><span class=\"toc-item-num\">4.1&nbsp;&nbsp;</span>Quantile Analysis</a></span></li><li><span><a href=\"#Rank-IC\" data-toc-modified-id=\"Rank-IC-4.2\"><span class=\"toc-item-num\">4.2&nbsp;&nbsp;</span>Rank IC</a></span></li><li><span><a href=\"#FRA-(Turnover-analysis)\" data-toc-modified-id=\"FRA-(Turnover-analysis)-4.3\"><span class=\"toc-item-num\">4.3&nbsp;&nbsp;</span>FRA (Turnover analysis)</a></span></li><li><span><a href=\"#Sharpe-Ratio\" data-toc-modified-id=\"Sharpe-Ratio-4.4\"><span class=\"toc-item-num\">4.4&nbsp;&nbsp;</span>Sharpe Ratio</a></span></li><li><span><a href=\"#Combined-Alpha-Vector\" data-toc-modified-id=\"Combined-Alpha-Vector-4.5\"><span class=\"toc-item-num\">4.5&nbsp;&nbsp;</span>Combined Alpha Vector</a></span></li></ul></li><li><span><a href=\"#Portfolio-Optimization\" data-toc-modified-id=\"Portfolio-Optimization-5\"><span class=\"toc-item-num\">5&nbsp;&nbsp;</span>Portfolio Optimization</a></span><ul class=\"toc-item\"><li><span><a href=\"#Approach-1.-Maximize-Alpha-with-Constraint-on-Risk\" data-toc-modified-id=\"Approach-1.-Maximize-Alpha-with-Constraint-on-Risk-5.1\"><span class=\"toc-item-num\">5.1&nbsp;&nbsp;</span>Approach 1. Maximize Alpha with Constraint on Risk</a></span></li><li><span><a href=\"#Approach-2.-Optimize-with-Regularization-Parameter\" data-toc-modified-id=\"Approach-2.-Optimize-with-Regularization-Parameter-5.2\"><span class=\"toc-item-num\">5.2&nbsp;&nbsp;</span>Approach 2. Optimize with Regularization Parameter</a></span></li><li><span><a href=\"#Approach-3.-Optimize-with-Strict-Factor-Constraints-&amp;-Target-Weighting\" data-toc-modified-id=\"Approach-3.-Optimize-with-Strict-Factor-Constraints-&amp;-Target-Weighting-5.3\"><span class=\"toc-item-num\">5.3&nbsp;&nbsp;</span>Approach 3. Optimize with Strict Factor Constraints &amp; Target Weighting</a></span></li></ul></li></ul></div>"
   ]
  },
  {
   "cell_type": "markdown",
   "metadata": {},
   "source": [
    "This project is a production ready prototype model that \n",
    "  - builds a cross-sectional statistical risk model using PCA, which is used to build a portfolio along with a number of momentum, mean reversion, and sentiment alpha factors\n",
    "  - universe: US equities, top 500 in terms of dollar volume\n",
    "  - evaluates the alpha factors, combining the promising signals into a single alpha vector\n",
    "  - evaluates a few portfolio optimization approaches\n",
    "  \n",
    "**note:** uses end of day pricing data from Quotemedia and sector data from Sharadar, which could not be shared due to licensing restrictions"
   ]
  },
  {
   "cell_type": "code",
   "execution_count": null,
   "metadata": {},
   "outputs": [],
   "source": [
    "import sys\n",
    "!{sys.executable} -m pip install -r requirements.txt"
   ]
  },
  {
   "cell_type": "code",
   "execution_count": null,
   "metadata": {},
   "outputs": [],
   "source": [
    "import cvxpy as cvx\n",
    "import numpy as np\n",
    "import pandas as pd\n",
    "import time\n",
    "import putils\n",
    "\n",
    "import matplotlib.pyplot as plt\n",
    "%matplotlib inline\n",
    "plt.style.use('ggplot')\n",
    "plt.rcParams['figure.figsize'] = (14, 8)"
   ]
  },
  {
   "cell_type": "markdown",
   "metadata": {},
   "source": [
    "## Data Bundle & Pipeline Engine\n",
    "---\n",
    "Using `zipline` to handle the data, and build the pipeline engine"
   ]
  },
  {
   "cell_type": "code",
   "execution_count": 3,
   "metadata": {
    "scrolled": false
   },
   "outputs": [
    {
     "name": "stdout",
     "output_type": "stream",
     "text": [
      "Data Registered\n"
     ]
    }
   ],
   "source": [
    "import os\n",
    "from zipline.data import bundles\n",
    "\n",
    "os.environ['ZIPLINE_ROOT'] = os.path.join(os.getcwd(), '..', '..', 'data', 'eod')\n",
    "\n",
    "ingest_func = bundles.csvdir.csvdir_equities(['daily'], putils.EOD_BUNDLE_NAME)\n",
    "bundles.register(putils.EOD_BUNDLE_NAME, ingest_func)\n",
    "\n",
    "print('Data Registered')"
   ]
  },
  {
   "cell_type": "code",
   "execution_count": 4,
   "metadata": {},
   "outputs": [],
   "source": [
    "from zipline.pipeline import Pipeline\n",
    "from zipline.pipeline.factors import AverageDollarVolume\n",
    "from zipline.utils.calendars import get_calendar\n",
    "\n",
    "\n",
    "universe = AverageDollarVolume(window_length=120).top(500) \n",
    "trading_calendar = get_calendar('NYSE') \n",
    "bundle_data = bundles.load(putils.EOD_BUNDLE_NAME)\n",
    "engine = putils.build_pipeline_engine(bundle_data, trading_calendar)"
   ]
  },
  {
   "cell_type": "markdown",
   "metadata": {},
   "source": [
    "**Universe**"
   ]
  },
  {
   "cell_type": "code",
   "execution_count": 5,
   "metadata": {},
   "outputs": [
    {
     "data": {
      "text/plain": [
       "[Equity(0 [A]),\n",
       " Equity(1 [AAL]),\n",
       " Equity(2 [AAP]),\n",
       " Equity(3 [AAPL]),\n",
       " Equity(4 [ABBV]),\n",
       " Equity(5 [ABC]),\n",
       " Equity(6 [ABT]),\n",
       " Equity(7 [ACN]),\n",
       " Equity(8 [ADBE]),\n",
       " Equity(9 [ADI])]"
      ]
     },
     "execution_count": 5,
     "metadata": {},
     "output_type": "execute_result"
    }
   ],
   "source": [
    "universe_end_date = pd.Timestamp('2016-01-05', tz='UTC')\n",
    "\n",
    "universe_tickers = engine\\\n",
    "    .run_pipeline(\n",
    "        Pipeline(screen=universe),\n",
    "        universe_end_date,\n",
    "        universe_end_date)\\\n",
    "    .index.get_level_values(1)\\\n",
    "    .values.tolist()\n",
    "    \n",
    "universe_tickers[:10]"
   ]
  },
  {
   "cell_type": "markdown",
   "metadata": {},
   "source": [
    "**Returns Data**"
   ]
  },
  {
   "cell_type": "code",
   "execution_count": 6,
   "metadata": {},
   "outputs": [],
   "source": [
    "from zipline.data.data_portal import DataPortal\n",
    "\n",
    "\n",
    "data_portal = DataPortal(\n",
    "    bundle_data.asset_finder,\n",
    "    trading_calendar=trading_calendar,\n",
    "    first_trading_day=bundle_data.equity_daily_bar_reader.first_trading_day,\n",
    "    equity_minute_reader=None,\n",
    "    equity_daily_reader=bundle_data.equity_daily_bar_reader,\n",
    "    adjustment_reader=bundle_data.adjustment_reader)"
   ]
  },
  {
   "cell_type": "markdown",
   "metadata": {},
   "source": [
    "`get_pricing` to get the pricing from the data portal"
   ]
  },
  {
   "cell_type": "code",
   "execution_count": 7,
   "metadata": {},
   "outputs": [],
   "source": [
    "def get_pricing(data_portal, trading_calendar, assets, start_date, end_date, field='close'):\n",
    "    end_dt = pd.Timestamp(end_date.strftime('%Y-%m-%d'), tz='UTC', offset='C')\n",
    "    start_dt = pd.Timestamp(start_date.strftime('%Y-%m-%d'), tz='UTC', offset='C')\n",
    "\n",
    "    end_loc = trading_calendar.closes.index.get_loc(end_dt)\n",
    "    start_loc = trading_calendar.closes.index.get_loc(start_dt)\n",
    "\n",
    "    return data_portal.get_history_window(\n",
    "        assets=assets,\n",
    "        end_dt=end_dt,\n",
    "        bar_count=end_loc - start_loc,\n",
    "        frequency='1d',\n",
    "        field=field,\n",
    "        data_frequency='daily')"
   ]
  },
  {
   "cell_type": "markdown",
   "metadata": {},
   "source": [
    "Five years of return data"
   ]
  },
  {
   "cell_type": "code",
   "execution_count": 8,
   "metadata": {},
   "outputs": [
    {
     "data": {
      "text/html": [
       "<div>\n",
       "<table border=\"1\" class=\"dataframe\">\n",
       "  <thead>\n",
       "    <tr style=\"text-align: right;\">\n",
       "      <th></th>\n",
       "      <th>Equity(0 [A])</th>\n",
       "      <th>Equity(1 [AAL])</th>\n",
       "      <th>Equity(2 [AAP])</th>\n",
       "      <th>Equity(3 [AAPL])</th>\n",
       "      <th>Equity(4 [ABBV])</th>\n",
       "      <th>Equity(5 [ABC])</th>\n",
       "      <th>Equity(6 [ABT])</th>\n",
       "      <th>Equity(7 [ACN])</th>\n",
       "      <th>Equity(8 [ADBE])</th>\n",
       "      <th>Equity(9 [ADI])</th>\n",
       "      <th>...</th>\n",
       "      <th>Equity(481 [XL])</th>\n",
       "      <th>Equity(482 [XLNX])</th>\n",
       "      <th>Equity(483 [XOM])</th>\n",
       "      <th>Equity(484 [XRAY])</th>\n",
       "      <th>Equity(485 [XRX])</th>\n",
       "      <th>Equity(486 [XYL])</th>\n",
       "      <th>Equity(487 [YUM])</th>\n",
       "      <th>Equity(488 [ZBH])</th>\n",
       "      <th>Equity(489 [ZION])</th>\n",
       "      <th>Equity(490 [ZTS])</th>\n",
       "    </tr>\n",
       "  </thead>\n",
       "  <tbody>\n",
       "    <tr>\n",
       "      <th>2011-01-07 00:00:00+00:00</th>\n",
       "      <td>0.00843652</td>\n",
       "      <td>0.01423027</td>\n",
       "      <td>0.02670202</td>\n",
       "      <td>0.00714639</td>\n",
       "      <td>0.00000000</td>\n",
       "      <td>0.00199434</td>\n",
       "      <td>0.00416541</td>\n",
       "      <td>0.00164769</td>\n",
       "      <td>-0.00712736</td>\n",
       "      <td>-0.00581846</td>\n",
       "      <td>...</td>\n",
       "      <td>-0.00183775</td>\n",
       "      <td>-0.00561865</td>\n",
       "      <td>0.00546091</td>\n",
       "      <td>-0.00404361</td>\n",
       "      <td>-0.01395259</td>\n",
       "      <td>0.00000000</td>\n",
       "      <td>0.01245693</td>\n",
       "      <td>-0.00018145</td>\n",
       "      <td>-0.01045802</td>\n",
       "      <td>0.00000000</td>\n",
       "    </tr>\n",
       "    <tr>\n",
       "      <th>2011-01-10 00:00:00+00:00</th>\n",
       "      <td>-0.00417428</td>\n",
       "      <td>0.00619534</td>\n",
       "      <td>0.00743543</td>\n",
       "      <td>0.01885158</td>\n",
       "      <td>0.00000000</td>\n",
       "      <td>-0.00571429</td>\n",
       "      <td>-0.00889600</td>\n",
       "      <td>-0.00885384</td>\n",
       "      <td>0.02871411</td>\n",
       "      <td>0.00292626</td>\n",
       "      <td>...</td>\n",
       "      <td>0.00094687</td>\n",
       "      <td>0.00781438</td>\n",
       "      <td>-0.00608100</td>\n",
       "      <td>0.01046585</td>\n",
       "      <td>0.00973303</td>\n",
       "      <td>0.00000000</td>\n",
       "      <td>0.00143979</td>\n",
       "      <td>0.00778351</td>\n",
       "      <td>-0.01794496</td>\n",
       "      <td>0.00000000</td>\n",
       "    </tr>\n",
       "    <tr>\n",
       "      <th>2011-01-11 00:00:00+00:00</th>\n",
       "      <td>-0.00188630</td>\n",
       "      <td>-0.04364361</td>\n",
       "      <td>-0.00592730</td>\n",
       "      <td>-0.00236744</td>\n",
       "      <td>0.00000000</td>\n",
       "      <td>0.00978303</td>\n",
       "      <td>-0.00206747</td>\n",
       "      <td>0.01371668</td>\n",
       "      <td>0.00060680</td>\n",
       "      <td>0.00875316</td>\n",
       "      <td>...</td>\n",
       "      <td>0.00131385</td>\n",
       "      <td>0.01017933</td>\n",
       "      <td>0.00744242</td>\n",
       "      <td>0.00735141</td>\n",
       "      <td>0.00611644</td>\n",
       "      <td>0.00000000</td>\n",
       "      <td>-0.00646974</td>\n",
       "      <td>0.03567570</td>\n",
       "      <td>0.00746728</td>\n",
       "      <td>0.00000000</td>\n",
       "    </tr>\n",
       "    <tr>\n",
       "      <th>2011-01-12 00:00:00+00:00</th>\n",
       "      <td>0.01725375</td>\n",
       "      <td>-0.00823708</td>\n",
       "      <td>0.01338721</td>\n",
       "      <td>0.00813289</td>\n",
       "      <td>0.00000000</td>\n",
       "      <td>-0.00597922</td>\n",
       "      <td>-0.00101061</td>\n",
       "      <td>0.02296913</td>\n",
       "      <td>0.01795027</td>\n",
       "      <td>0.00025710</td>\n",
       "      <td>...</td>\n",
       "      <td>0.00498609</td>\n",
       "      <td>0.01566621</td>\n",
       "      <td>0.01176334</td>\n",
       "      <td>0.02718194</td>\n",
       "      <td>0.00438630</td>\n",
       "      <td>0.00000000</td>\n",
       "      <td>0.00263106</td>\n",
       "      <td>0.01474083</td>\n",
       "      <td>-0.01190269</td>\n",
       "      <td>0.00000000</td>\n",
       "    </tr>\n",
       "    <tr>\n",
       "      <th>2011-01-13 00:00:00+00:00</th>\n",
       "      <td>-0.00455851</td>\n",
       "      <td>0.00095465</td>\n",
       "      <td>0.00303109</td>\n",
       "      <td>0.00365656</td>\n",
       "      <td>0.00000000</td>\n",
       "      <td>0.01492537</td>\n",
       "      <td>-0.00445119</td>\n",
       "      <td>-0.00040011</td>\n",
       "      <td>-0.00571905</td>\n",
       "      <td>-0.00501221</td>\n",
       "      <td>...</td>\n",
       "      <td>0.03049927</td>\n",
       "      <td>-0.00321668</td>\n",
       "      <td>0.00169383</td>\n",
       "      <td>0.00054651</td>\n",
       "      <td>-0.01823475</td>\n",
       "      <td>0.00000000</td>\n",
       "      <td>-0.00508430</td>\n",
       "      <td>-0.00466453</td>\n",
       "      <td>-0.00917796</td>\n",
       "      <td>0.00000000</td>\n",
       "    </tr>\n",
       "  </tbody>\n",
       "</table>\n",
       "<p>5 rows × 490 columns</p>\n",
       "</div>"
      ],
      "text/plain": [
       "                           Equity(0 [A])  Equity(1 [AAL])  Equity(2 [AAP])  \\\n",
       "2011-01-07 00:00:00+00:00     0.00843652       0.01423027       0.02670202   \n",
       "2011-01-10 00:00:00+00:00    -0.00417428       0.00619534       0.00743543   \n",
       "2011-01-11 00:00:00+00:00    -0.00188630      -0.04364361      -0.00592730   \n",
       "2011-01-12 00:00:00+00:00     0.01725375      -0.00823708       0.01338721   \n",
       "2011-01-13 00:00:00+00:00    -0.00455851       0.00095465       0.00303109   \n",
       "\n",
       "                           Equity(3 [AAPL])  Equity(4 [ABBV])  \\\n",
       "2011-01-07 00:00:00+00:00        0.00714639        0.00000000   \n",
       "2011-01-10 00:00:00+00:00        0.01885158        0.00000000   \n",
       "2011-01-11 00:00:00+00:00       -0.00236744        0.00000000   \n",
       "2011-01-12 00:00:00+00:00        0.00813289        0.00000000   \n",
       "2011-01-13 00:00:00+00:00        0.00365656        0.00000000   \n",
       "\n",
       "                           Equity(5 [ABC])  Equity(6 [ABT])  Equity(7 [ACN])  \\\n",
       "2011-01-07 00:00:00+00:00       0.00199434       0.00416541       0.00164769   \n",
       "2011-01-10 00:00:00+00:00      -0.00571429      -0.00889600      -0.00885384   \n",
       "2011-01-11 00:00:00+00:00       0.00978303      -0.00206747       0.01371668   \n",
       "2011-01-12 00:00:00+00:00      -0.00597922      -0.00101061       0.02296913   \n",
       "2011-01-13 00:00:00+00:00       0.01492537      -0.00445119      -0.00040011   \n",
       "\n",
       "                           Equity(8 [ADBE])  Equity(9 [ADI])  \\\n",
       "2011-01-07 00:00:00+00:00       -0.00712736      -0.00581846   \n",
       "2011-01-10 00:00:00+00:00        0.02871411       0.00292626   \n",
       "2011-01-11 00:00:00+00:00        0.00060680       0.00875316   \n",
       "2011-01-12 00:00:00+00:00        0.01795027       0.00025710   \n",
       "2011-01-13 00:00:00+00:00       -0.00571905      -0.00501221   \n",
       "\n",
       "                                 ...          Equity(481 [XL])  \\\n",
       "2011-01-07 00:00:00+00:00        ...               -0.00183775   \n",
       "2011-01-10 00:00:00+00:00        ...                0.00094687   \n",
       "2011-01-11 00:00:00+00:00        ...                0.00131385   \n",
       "2011-01-12 00:00:00+00:00        ...                0.00498609   \n",
       "2011-01-13 00:00:00+00:00        ...                0.03049927   \n",
       "\n",
       "                           Equity(482 [XLNX])  Equity(483 [XOM])  \\\n",
       "2011-01-07 00:00:00+00:00         -0.00561865         0.00546091   \n",
       "2011-01-10 00:00:00+00:00          0.00781438        -0.00608100   \n",
       "2011-01-11 00:00:00+00:00          0.01017933         0.00744242   \n",
       "2011-01-12 00:00:00+00:00          0.01566621         0.01176334   \n",
       "2011-01-13 00:00:00+00:00         -0.00321668         0.00169383   \n",
       "\n",
       "                           Equity(484 [XRAY])  Equity(485 [XRX])  \\\n",
       "2011-01-07 00:00:00+00:00         -0.00404361        -0.01395259   \n",
       "2011-01-10 00:00:00+00:00          0.01046585         0.00973303   \n",
       "2011-01-11 00:00:00+00:00          0.00735141         0.00611644   \n",
       "2011-01-12 00:00:00+00:00          0.02718194         0.00438630   \n",
       "2011-01-13 00:00:00+00:00          0.00054651        -0.01823475   \n",
       "\n",
       "                           Equity(486 [XYL])  Equity(487 [YUM])  \\\n",
       "2011-01-07 00:00:00+00:00         0.00000000         0.01245693   \n",
       "2011-01-10 00:00:00+00:00         0.00000000         0.00143979   \n",
       "2011-01-11 00:00:00+00:00         0.00000000        -0.00646974   \n",
       "2011-01-12 00:00:00+00:00         0.00000000         0.00263106   \n",
       "2011-01-13 00:00:00+00:00         0.00000000        -0.00508430   \n",
       "\n",
       "                           Equity(488 [ZBH])  Equity(489 [ZION])  \\\n",
       "2011-01-07 00:00:00+00:00        -0.00018145         -0.01045802   \n",
       "2011-01-10 00:00:00+00:00         0.00778351         -0.01794496   \n",
       "2011-01-11 00:00:00+00:00         0.03567570          0.00746728   \n",
       "2011-01-12 00:00:00+00:00         0.01474083         -0.01190269   \n",
       "2011-01-13 00:00:00+00:00        -0.00466453         -0.00917796   \n",
       "\n",
       "                           Equity(490 [ZTS])  \n",
       "2011-01-07 00:00:00+00:00         0.00000000  \n",
       "2011-01-10 00:00:00+00:00         0.00000000  \n",
       "2011-01-11 00:00:00+00:00         0.00000000  \n",
       "2011-01-12 00:00:00+00:00         0.00000000  \n",
       "2011-01-13 00:00:00+00:00         0.00000000  \n",
       "\n",
       "[5 rows x 490 columns]"
      ]
     },
     "execution_count": 8,
     "metadata": {},
     "output_type": "execute_result"
    }
   ],
   "source": [
    "five_year_returns = \\\n",
    "    get_pricing(\n",
    "        data_portal,\n",
    "        trading_calendar,\n",
    "        universe_tickers,\n",
    "        universe_end_date - pd.DateOffset(years=5),\n",
    "        universe_end_date)\\\n",
    "    .pct_change()[1:].fillna(0)\n",
    "\n",
    "five_year_returns[:5]"
   ]
  },
  {
   "cell_type": "code",
   "execution_count": 9,
   "metadata": {},
   "outputs": [
    {
     "data": {
      "text/html": [
       "<div>\n",
       "<table border=\"1\" class=\"dataframe\">\n",
       "  <thead>\n",
       "    <tr style=\"text-align: right;\">\n",
       "      <th></th>\n",
       "      <th>Equity(0 [A])</th>\n",
       "      <th>Equity(1 [AAL])</th>\n",
       "      <th>Equity(2 [AAP])</th>\n",
       "      <th>Equity(3 [AAPL])</th>\n",
       "      <th>Equity(4 [ABBV])</th>\n",
       "      <th>Equity(5 [ABC])</th>\n",
       "      <th>Equity(6 [ABT])</th>\n",
       "      <th>Equity(7 [ACN])</th>\n",
       "      <th>Equity(8 [ADBE])</th>\n",
       "      <th>Equity(9 [ADI])</th>\n",
       "      <th>...</th>\n",
       "      <th>Equity(481 [XL])</th>\n",
       "      <th>Equity(482 [XLNX])</th>\n",
       "      <th>Equity(483 [XOM])</th>\n",
       "      <th>Equity(484 [XRAY])</th>\n",
       "      <th>Equity(485 [XRX])</th>\n",
       "      <th>Equity(486 [XYL])</th>\n",
       "      <th>Equity(487 [YUM])</th>\n",
       "      <th>Equity(488 [ZBH])</th>\n",
       "      <th>Equity(489 [ZION])</th>\n",
       "      <th>Equity(490 [ZTS])</th>\n",
       "    </tr>\n",
       "  </thead>\n",
       "  <tbody>\n",
       "    <tr>\n",
       "      <th>2015-12-29 00:00:00+00:00</th>\n",
       "      <td>0.01944279</td>\n",
       "      <td>0.00625637</td>\n",
       "      <td>0.01095726</td>\n",
       "      <td>0.01797599</td>\n",
       "      <td>0.01191076</td>\n",
       "      <td>0.00556913</td>\n",
       "      <td>0.01754180</td>\n",
       "      <td>0.01191401</td>\n",
       "      <td>0.01199575</td>\n",
       "      <td>0.01522413</td>\n",
       "      <td>...</td>\n",
       "      <td>0.01381318</td>\n",
       "      <td>0.00796362</td>\n",
       "      <td>0.00533553</td>\n",
       "      <td>0.01143615</td>\n",
       "      <td>0.01128297</td>\n",
       "      <td>0.00430697</td>\n",
       "      <td>0.00541538</td>\n",
       "      <td>0.00723499</td>\n",
       "      <td>0.00617376</td>\n",
       "      <td>0.00899694</td>\n",
       "    </tr>\n",
       "    <tr>\n",
       "      <th>2015-12-30 00:00:00+00:00</th>\n",
       "      <td>-0.00638405</td>\n",
       "      <td>-0.01608535</td>\n",
       "      <td>-0.00525423</td>\n",
       "      <td>-0.01305616</td>\n",
       "      <td>0.00590373</td>\n",
       "      <td>0.00239063</td>\n",
       "      <td>-0.01201673</td>\n",
       "      <td>0.00512422</td>\n",
       "      <td>-0.00052449</td>\n",
       "      <td>-0.01325558</td>\n",
       "      <td>...</td>\n",
       "      <td>-0.01461683</td>\n",
       "      <td>-0.00706442</td>\n",
       "      <td>-0.01326109</td>\n",
       "      <td>-0.00807866</td>\n",
       "      <td>0.00184720</td>\n",
       "      <td>-0.00618212</td>\n",
       "      <td>-0.00578080</td>\n",
       "      <td>-0.00292090</td>\n",
       "      <td>-0.01223479</td>\n",
       "      <td>-0.00145450</td>\n",
       "    </tr>\n",
       "    <tr>\n",
       "      <th>2015-12-31 00:00:00+00:00</th>\n",
       "      <td>-0.01243206</td>\n",
       "      <td>-0.01053186</td>\n",
       "      <td>-0.00587919</td>\n",
       "      <td>-0.01919944</td>\n",
       "      <td>-0.00937219</td>\n",
       "      <td>-0.01248112</td>\n",
       "      <td>-0.00795266</td>\n",
       "      <td>-0.01284442</td>\n",
       "      <td>-0.01406381</td>\n",
       "      <td>-0.02174525</td>\n",
       "      <td>...</td>\n",
       "      <td>-0.01605213</td>\n",
       "      <td>-0.01817456</td>\n",
       "      <td>-0.00205030</td>\n",
       "      <td>-0.00911914</td>\n",
       "      <td>-0.00837082</td>\n",
       "      <td>-0.01003138</td>\n",
       "      <td>-0.01029925</td>\n",
       "      <td>0.00117577</td>\n",
       "      <td>-0.00621188</td>\n",
       "      <td>-0.00705088</td>\n",
       "    </tr>\n",
       "    <tr>\n",
       "      <th>2016-01-04 00:00:00+00:00</th>\n",
       "      <td>-0.02828157</td>\n",
       "      <td>-0.03398810</td>\n",
       "      <td>0.01149418</td>\n",
       "      <td>0.00085542</td>\n",
       "      <td>-0.02751240</td>\n",
       "      <td>-0.01774070</td>\n",
       "      <td>-0.04406668</td>\n",
       "      <td>-0.02555086</td>\n",
       "      <td>-0.02097083</td>\n",
       "      <td>-0.01591868</td>\n",
       "      <td>...</td>\n",
       "      <td>-0.02476714</td>\n",
       "      <td>-0.02492212</td>\n",
       "      <td>-0.00627612</td>\n",
       "      <td>-0.03271090</td>\n",
       "      <td>-0.03105128</td>\n",
       "      <td>-0.01151995</td>\n",
       "      <td>-0.01148918</td>\n",
       "      <td>-0.00760365</td>\n",
       "      <td>-0.02161389</td>\n",
       "      <td>-0.01356408</td>\n",
       "    </tr>\n",
       "    <tr>\n",
       "      <th>2016-01-05 00:00:00+00:00</th>\n",
       "      <td>0.00405845</td>\n",
       "      <td>-0.00954098</td>\n",
       "      <td>-0.00683002</td>\n",
       "      <td>-0.02505441</td>\n",
       "      <td>-0.00416936</td>\n",
       "      <td>0.01462920</td>\n",
       "      <td>-0.00024665</td>\n",
       "      <td>0.00520704</td>\n",
       "      <td>0.00402305</td>\n",
       "      <td>-0.00734750</td>\n",
       "      <td>...</td>\n",
       "      <td>0.00209794</td>\n",
       "      <td>0.01486318</td>\n",
       "      <td>0.00851070</td>\n",
       "      <td>0.02039022</td>\n",
       "      <td>-0.00195732</td>\n",
       "      <td>-0.00028634</td>\n",
       "      <td>-0.00249493</td>\n",
       "      <td>0.02081954</td>\n",
       "      <td>-0.01085325</td>\n",
       "      <td>0.01564723</td>\n",
       "    </tr>\n",
       "  </tbody>\n",
       "</table>\n",
       "<p>5 rows × 490 columns</p>\n",
       "</div>"
      ],
      "text/plain": [
       "                           Equity(0 [A])  Equity(1 [AAL])  Equity(2 [AAP])  \\\n",
       "2015-12-29 00:00:00+00:00     0.01944279       0.00625637       0.01095726   \n",
       "2015-12-30 00:00:00+00:00    -0.00638405      -0.01608535      -0.00525423   \n",
       "2015-12-31 00:00:00+00:00    -0.01243206      -0.01053186      -0.00587919   \n",
       "2016-01-04 00:00:00+00:00    -0.02828157      -0.03398810       0.01149418   \n",
       "2016-01-05 00:00:00+00:00     0.00405845      -0.00954098      -0.00683002   \n",
       "\n",
       "                           Equity(3 [AAPL])  Equity(4 [ABBV])  \\\n",
       "2015-12-29 00:00:00+00:00        0.01797599        0.01191076   \n",
       "2015-12-30 00:00:00+00:00       -0.01305616        0.00590373   \n",
       "2015-12-31 00:00:00+00:00       -0.01919944       -0.00937219   \n",
       "2016-01-04 00:00:00+00:00        0.00085542       -0.02751240   \n",
       "2016-01-05 00:00:00+00:00       -0.02505441       -0.00416936   \n",
       "\n",
       "                           Equity(5 [ABC])  Equity(6 [ABT])  Equity(7 [ACN])  \\\n",
       "2015-12-29 00:00:00+00:00       0.00556913       0.01754180       0.01191401   \n",
       "2015-12-30 00:00:00+00:00       0.00239063      -0.01201673       0.00512422   \n",
       "2015-12-31 00:00:00+00:00      -0.01248112      -0.00795266      -0.01284442   \n",
       "2016-01-04 00:00:00+00:00      -0.01774070      -0.04406668      -0.02555086   \n",
       "2016-01-05 00:00:00+00:00       0.01462920      -0.00024665       0.00520704   \n",
       "\n",
       "                           Equity(8 [ADBE])  Equity(9 [ADI])  \\\n",
       "2015-12-29 00:00:00+00:00        0.01199575       0.01522413   \n",
       "2015-12-30 00:00:00+00:00       -0.00052449      -0.01325558   \n",
       "2015-12-31 00:00:00+00:00       -0.01406381      -0.02174525   \n",
       "2016-01-04 00:00:00+00:00       -0.02097083      -0.01591868   \n",
       "2016-01-05 00:00:00+00:00        0.00402305      -0.00734750   \n",
       "\n",
       "                                 ...          Equity(481 [XL])  \\\n",
       "2015-12-29 00:00:00+00:00        ...                0.01381318   \n",
       "2015-12-30 00:00:00+00:00        ...               -0.01461683   \n",
       "2015-12-31 00:00:00+00:00        ...               -0.01605213   \n",
       "2016-01-04 00:00:00+00:00        ...               -0.02476714   \n",
       "2016-01-05 00:00:00+00:00        ...                0.00209794   \n",
       "\n",
       "                           Equity(482 [XLNX])  Equity(483 [XOM])  \\\n",
       "2015-12-29 00:00:00+00:00          0.00796362         0.00533553   \n",
       "2015-12-30 00:00:00+00:00         -0.00706442        -0.01326109   \n",
       "2015-12-31 00:00:00+00:00         -0.01817456        -0.00205030   \n",
       "2016-01-04 00:00:00+00:00         -0.02492212        -0.00627612   \n",
       "2016-01-05 00:00:00+00:00          0.01486318         0.00851070   \n",
       "\n",
       "                           Equity(484 [XRAY])  Equity(485 [XRX])  \\\n",
       "2015-12-29 00:00:00+00:00          0.01143615         0.01128297   \n",
       "2015-12-30 00:00:00+00:00         -0.00807866         0.00184720   \n",
       "2015-12-31 00:00:00+00:00         -0.00911914        -0.00837082   \n",
       "2016-01-04 00:00:00+00:00         -0.03271090        -0.03105128   \n",
       "2016-01-05 00:00:00+00:00          0.02039022        -0.00195732   \n",
       "\n",
       "                           Equity(486 [XYL])  Equity(487 [YUM])  \\\n",
       "2015-12-29 00:00:00+00:00         0.00430697         0.00541538   \n",
       "2015-12-30 00:00:00+00:00        -0.00618212        -0.00578080   \n",
       "2015-12-31 00:00:00+00:00        -0.01003138        -0.01029925   \n",
       "2016-01-04 00:00:00+00:00        -0.01151995        -0.01148918   \n",
       "2016-01-05 00:00:00+00:00        -0.00028634        -0.00249493   \n",
       "\n",
       "                           Equity(488 [ZBH])  Equity(489 [ZION])  \\\n",
       "2015-12-29 00:00:00+00:00         0.00723499          0.00617376   \n",
       "2015-12-30 00:00:00+00:00        -0.00292090         -0.01223479   \n",
       "2015-12-31 00:00:00+00:00         0.00117577         -0.00621188   \n",
       "2016-01-04 00:00:00+00:00        -0.00760365         -0.02161389   \n",
       "2016-01-05 00:00:00+00:00         0.02081954         -0.01085325   \n",
       "\n",
       "                           Equity(490 [ZTS])  \n",
       "2015-12-29 00:00:00+00:00         0.00899694  \n",
       "2015-12-30 00:00:00+00:00        -0.00145450  \n",
       "2015-12-31 00:00:00+00:00        -0.00705088  \n",
       "2016-01-04 00:00:00+00:00        -0.01356408  \n",
       "2016-01-05 00:00:00+00:00         0.01564723  \n",
       "\n",
       "[5 rows x 490 columns]"
      ]
     },
     "execution_count": 9,
     "metadata": {},
     "output_type": "execute_result"
    }
   ],
   "source": [
    "five_year_returns[-5:]"
   ]
  },
  {
   "cell_type": "markdown",
   "metadata": {},
   "source": [
    "## Statistical Risk Model\n",
    "---"
   ]
  },
  {
   "cell_type": "markdown",
   "metadata": {},
   "source": [
    "$$\n",
    "\\textbf{r} = \\textbf{B}\\textbf{f} + \\textbf{s}\n",
    "$$"
   ]
  },
  {
   "cell_type": "markdown",
   "metadata": {},
   "source": [
    "### Fit PCA"
   ]
  },
  {
   "cell_type": "code",
   "execution_count": 10,
   "metadata": {},
   "outputs": [],
   "source": [
    "from sklearn.decomposition import PCA\n",
    "\n",
    "\n",
    "def fit_pca(returns, num_factor_exposures, svd_solver):\n",
    "    \"\"\"\n",
    "    Fits PCA model with returns.\n",
    "\n",
    "    Parameters\n",
    "    ----------\n",
    "    returns : DataFrame\n",
    "        Returns for each ticker and date\n",
    "    num_factor_exposures : int\n",
    "        Number of factors for PCA\n",
    "    svd_solver: str\n",
    "        The solver to use for the PCA model\n",
    "\n",
    "    Returns\n",
    "    -------\n",
    "    pca : PCA\n",
    "        Model fit to returns\n",
    "    \"\"\"\n",
    "    pca = PCA(n_components=num_factor_exposures, svd_solver=svd_solver)\n",
    "    pca.fit(returns)\n",
    "    return pca"
   ]
  },
  {
   "cell_type": "code",
   "execution_count": 11,
   "metadata": {},
   "outputs": [],
   "source": [
    "num_factor_exposures = 20\n",
    "pca = fit_pca(five_year_returns, num_factor_exposures, 'full')"
   ]
  },
  {
   "cell_type": "markdown",
   "metadata": {},
   "source": [
    "PCA's pct of variance explained by each factor:"
   ]
  },
  {
   "cell_type": "code",
   "execution_count": 12,
   "metadata": {},
   "outputs": [
    {
     "data": {
      "text/plain": [
       "<Container object of 20 artists>"
      ]
     },
     "execution_count": 12,
     "metadata": {},
     "output_type": "execute_result"
    },
    {
     "data": {
      "image/png": "[encoded data removed]",
      "text/plain": [
       "<matplotlib.figure.Figure at 0x7f1fe3251d30>"
      ]
     },
     "metadata": {
      "needs_background": "light"
     },
     "output_type": "display_data"
    }
   ],
   "source": [
    "plt.bar(np.arange(num_factor_exposures), pca.explained_variance_ratio_)"
   ]
  },
  {
   "cell_type": "markdown",
   "metadata": {},
   "source": [
    "### Factor Betas/Exposures - $\\mathbf{B}$"
   ]
  },
  {
   "cell_type": "markdown",
   "metadata": {},
   "source": [
    "Reduced form factor betas"
   ]
  },
  {
   "cell_type": "code",
   "execution_count": 13,
   "metadata": {},
   "outputs": [],
   "source": [
    "def factor_betas(pca, factor_beta_indices, factor_beta_columns):\n",
    "    \"\"\"\n",
    "    Returns factor betas from the PCA model.\n",
    "\n",
    "    Parameters\n",
    "    ----------\n",
    "    pca : PCA\n",
    "        Model fit to returns\n",
    "    factor_beta_indices : 1 dimensional Ndarray\n",
    "        Factor beta indices\n",
    "    factor_beta_columns : 1 dimensional Ndarray\n",
    "        Factor beta columns\n",
    "\n",
    "    Returns\n",
    "    -------\n",
    "    factor_betas : DataFrame\n",
    "        Factor betas\n",
    "    \"\"\"\n",
    "    assert len(factor_beta_indices.shape) == 1\n",
    "    assert len(factor_beta_columns.shape) == 1\n",
    "    \n",
    "    data = pca.components_.T \n",
    "    df = pd.DataFrame(data=data, index=factor_beta_indices, columns=factor_beta_columns)\n",
    "    \n",
    "    return df"
   ]
  },
  {
   "cell_type": "code",
   "execution_count": 14,
   "metadata": {},
   "outputs": [
    {
     "data": {
      "text/html": [
       "<div>\n",
       "<table border=\"1\" class=\"dataframe\">\n",
       "  <thead>\n",
       "    <tr style=\"text-align: right;\">\n",
       "      <th></th>\n",
       "      <th>0</th>\n",
       "      <th>1</th>\n",
       "      <th>2</th>\n",
       "      <th>3</th>\n",
       "      <th>4</th>\n",
       "      <th>5</th>\n",
       "      <th>6</th>\n",
       "      <th>7</th>\n",
       "      <th>8</th>\n",
       "      <th>9</th>\n",
       "      <th>10</th>\n",
       "      <th>11</th>\n",
       "      <th>12</th>\n",
       "      <th>13</th>\n",
       "      <th>14</th>\n",
       "      <th>15</th>\n",
       "      <th>16</th>\n",
       "      <th>17</th>\n",
       "      <th>18</th>\n",
       "      <th>19</th>\n",
       "    </tr>\n",
       "  </thead>\n",
       "  <tbody>\n",
       "    <tr>\n",
       "      <th>Equity(0 [A])</th>\n",
       "      <td>-0.04316847</td>\n",
       "      <td>0.01955111</td>\n",
       "      <td>-0.00993375</td>\n",
       "      <td>0.01054038</td>\n",
       "      <td>-0.01819821</td>\n",
       "      <td>0.01074517</td>\n",
       "      <td>0.00112915</td>\n",
       "      <td>0.03973914</td>\n",
       "      <td>-0.01380519</td>\n",
       "      <td>0.01273651</td>\n",
       "      <td>-0.02384028</td>\n",
       "      <td>-0.00141663</td>\n",
       "      <td>0.02099338</td>\n",
       "      <td>0.03460997</td>\n",
       "      <td>-0.03048936</td>\n",
       "      <td>0.03360635</td>\n",
       "      <td>-0.01142920</td>\n",
       "      <td>-0.01174265</td>\n",
       "      <td>0.00526925</td>\n",
       "      <td>-0.00535269</td>\n",
       "    </tr>\n",
       "    <tr>\n",
       "      <th>Equity(1 [AAL])</th>\n",
       "      <td>-0.05874471</td>\n",
       "      <td>0.19637679</td>\n",
       "      <td>0.07868756</td>\n",
       "      <td>0.08209582</td>\n",
       "      <td>0.34847826</td>\n",
       "      <td>-0.13808246</td>\n",
       "      <td>0.07129285</td>\n",
       "      <td>0.10524788</td>\n",
       "      <td>-0.04588957</td>\n",
       "      <td>-0.08547793</td>\n",
       "      <td>0.00328328</td>\n",
       "      <td>0.10534284</td>\n",
       "      <td>0.06721603</td>\n",
       "      <td>-0.04405955</td>\n",
       "      <td>-0.02231617</td>\n",
       "      <td>0.01726309</td>\n",
       "      <td>-0.03310836</td>\n",
       "      <td>0.01398085</td>\n",
       "      <td>-0.04680674</td>\n",
       "      <td>-0.01599057</td>\n",
       "    </tr>\n",
       "    <tr>\n",
       "      <th>Equity(2 [AAP])</th>\n",
       "      <td>-0.03433256</td>\n",
       "      <td>0.03451503</td>\n",
       "      <td>0.01133839</td>\n",
       "      <td>-0.02543666</td>\n",
       "      <td>-0.00817211</td>\n",
       "      <td>-0.01318319</td>\n",
       "      <td>-0.06095238</td>\n",
       "      <td>0.00654915</td>\n",
       "      <td>-0.03265404</td>\n",
       "      <td>-0.01351522</td>\n",
       "      <td>0.02896685</td>\n",
       "      <td>0.03836520</td>\n",
       "      <td>-0.04960451</td>\n",
       "      <td>-0.00524576</td>\n",
       "      <td>-0.02196994</td>\n",
       "      <td>0.02976718</td>\n",
       "      <td>-0.01163585</td>\n",
       "      <td>0.05143999</td>\n",
       "      <td>0.05716915</td>\n",
       "      <td>0.08414961</td>\n",
       "    </tr>\n",
       "    <tr>\n",
       "      <th>Equity(3 [AAPL])</th>\n",
       "      <td>-0.03409988</td>\n",
       "      <td>-0.00139319</td>\n",
       "      <td>0.03946700</td>\n",
       "      <td>-0.01721303</td>\n",
       "      <td>-0.03046983</td>\n",
       "      <td>-0.01757067</td>\n",
       "      <td>0.02325117</td>\n",
       "      <td>0.01142987</td>\n",
       "      <td>-0.02656849</td>\n",
       "      <td>-0.00771904</td>\n",
       "      <td>0.02686350</td>\n",
       "      <td>0.00731877</td>\n",
       "      <td>0.00481832</td>\n",
       "      <td>0.01288623</td>\n",
       "      <td>0.05256513</td>\n",
       "      <td>-0.07344470</td>\n",
       "      <td>-0.03179158</td>\n",
       "      <td>0.09079374</td>\n",
       "      <td>-0.01118851</td>\n",
       "      <td>0.04291373</td>\n",
       "    </tr>\n",
       "    <tr>\n",
       "      <th>Equity(4 [ABBV])</th>\n",
       "      <td>-0.01803099</td>\n",
       "      <td>0.02568151</td>\n",
       "      <td>0.00435183</td>\n",
       "      <td>-0.07078179</td>\n",
       "      <td>0.01319937</td>\n",
       "      <td>0.05427710</td>\n",
       "      <td>-0.01567842</td>\n",
       "      <td>0.04046172</td>\n",
       "      <td>-0.01245487</td>\n",
       "      <td>-0.03515086</td>\n",
       "      <td>-0.05132433</td>\n",
       "      <td>-0.04041614</td>\n",
       "      <td>-0.05120320</td>\n",
       "      <td>-0.01858166</td>\n",
       "      <td>-0.01126857</td>\n",
       "      <td>-0.04200714</td>\n",
       "      <td>0.01588559</td>\n",
       "      <td>0.04598554</td>\n",
       "      <td>0.01599288</td>\n",
       "      <td>0.06587978</td>\n",
       "    </tr>\n",
       "  </tbody>\n",
       "</table>\n",
       "</div>"
      ],
      "text/plain": [
       "                          0           1           2           3           4   \\\n",
       "Equity(0 [A])    -0.04316847  0.01955111 -0.00993375  0.01054038 -0.01819821   \n",
       "Equity(1 [AAL])  -0.05874471  0.19637679  0.07868756  0.08209582  0.34847826   \n",
       "Equity(2 [AAP])  -0.03433256  0.03451503  0.01133839 -0.02543666 -0.00817211   \n",
       "Equity(3 [AAPL]) -0.03409988 -0.00139319  0.03946700 -0.01721303 -0.03046983   \n",
       "Equity(4 [ABBV]) -0.01803099  0.02568151  0.00435183 -0.07078179  0.01319937   \n",
       "\n",
       "                          5           6          7           8           9   \\\n",
       "Equity(0 [A])     0.01074517  0.00112915 0.03973914 -0.01380519  0.01273651   \n",
       "Equity(1 [AAL])  -0.13808246  0.07129285 0.10524788 -0.04588957 -0.08547793   \n",
       "Equity(2 [AAP])  -0.01318319 -0.06095238 0.00654915 -0.03265404 -0.01351522   \n",
       "Equity(3 [AAPL]) -0.01757067  0.02325117 0.01142987 -0.02656849 -0.00771904   \n",
       "Equity(4 [ABBV])  0.05427710 -0.01567842 0.04046172 -0.01245487 -0.03515086   \n",
       "\n",
       "                          10          11          12          13          14  \\\n",
       "Equity(0 [A])    -0.02384028 -0.00141663  0.02099338  0.03460997 -0.03048936   \n",
       "Equity(1 [AAL])   0.00328328  0.10534284  0.06721603 -0.04405955 -0.02231617   \n",
       "Equity(2 [AAP])   0.02896685  0.03836520 -0.04960451 -0.00524576 -0.02196994   \n",
       "Equity(3 [AAPL])  0.02686350  0.00731877  0.00481832  0.01288623  0.05256513   \n",
       "Equity(4 [ABBV]) -0.05132433 -0.04041614 -0.05120320 -0.01858166 -0.01126857   \n",
       "\n",
       "                          15          16          17          18          19  \n",
       "Equity(0 [A])     0.03360635 -0.01142920 -0.01174265  0.00526925 -0.00535269  \n",
       "Equity(1 [AAL])   0.01726309 -0.03310836  0.01398085 -0.04680674 -0.01599057  \n",
       "Equity(2 [AAP])   0.02976718 -0.01163585  0.05143999  0.05716915  0.08414961  \n",
       "Equity(3 [AAPL]) -0.07344470 -0.03179158  0.09079374 -0.01118851  0.04291373  \n",
       "Equity(4 [ABBV]) -0.04200714  0.01588559  0.04598554  0.01599288  0.06587978  "
      ]
     },
     "execution_count": 14,
     "metadata": {},
     "output_type": "execute_result"
    }
   ],
   "source": [
    "risk_model = {}\n",
    "risk_model['factor_betas'] = factor_betas(pca, five_year_returns.columns.values, np.arange(num_factor_exposures))\n",
    "\n",
    "risk_model['factor_betas'][:5]"
   ]
  },
  {
   "cell_type": "markdown",
   "metadata": {},
   "source": [
    "### Factor Returns - $\\mathbf{f}$"
   ]
  },
  {
   "cell_type": "markdown",
   "metadata": {},
   "source": [
    "Reduced form factor returns"
   ]
  },
  {
   "cell_type": "code",
   "execution_count": 15,
   "metadata": {},
   "outputs": [],
   "source": [
    "def factor_returns(pca, returns, factor_return_indices, factor_return_columns):\n",
    "    \"\"\"\n",
    "    Returns the factor returns from the PCA model.\n",
    "\n",
    "    Parameters\n",
    "    ----------\n",
    "    pca : PCA\n",
    "        Model fit to returns\n",
    "    returns : DataFrame\n",
    "        Returns for each ticker and date\n",
    "    factor_return_indices : 1 dimensional Ndarray\n",
    "        Factor return indices\n",
    "    factor_return_columns : 1 dimensional Ndarray\n",
    "        Factor return columns\n",
    "\n",
    "    Returns\n",
    "    -------\n",
    "    factor_returns : DataFrame\n",
    "        Factor returns\n",
    "    \"\"\"\n",
    "    assert len(factor_return_indices.shape) == 1\n",
    "    assert len(factor_return_columns.shape) == 1\n",
    "    \n",
    "    df = pd.DataFrame(pca.transform(returns), factor_return_indices, factor_return_columns)\n",
    "    \n",
    "    return df"
   ]
  },
  {
   "cell_type": "code",
   "execution_count": 16,
   "metadata": {},
   "outputs": [
    {
     "data": {
      "text/plain": [
       "<matplotlib.axes._subplots.AxesSubplot at 0x7f1fe372bf60>"
      ]
     },
     "execution_count": 16,
     "metadata": {},
     "output_type": "execute_result"
    },
    {
     "data": {
      "image/png": "[encoded data removed]",
      "text/plain": [
       "<matplotlib.figure.Figure at 0x7f1fe3756cf8>"
      ]
     },
     "metadata": {
      "needs_background": "light"
     },
     "output_type": "display_data"
    }
   ],
   "source": [
    "risk_model['factor_returns'] = factor_returns(\n",
    "    pca,\n",
    "    five_year_returns,\n",
    "    five_year_returns.index,\n",
    "    np.arange(num_factor_exposures))\n",
    "\n",
    "risk_model['factor_returns'].cumsum().plot(legend=None)"
   ]
  },
  {
   "cell_type": "markdown",
   "metadata": {},
   "source": [
    "### Factor Covariance Matrix - $\\mathbf{F}$"
   ]
  },
  {
   "cell_type": "markdown",
   "metadata": {},
   "source": [
    "Annualized factor covariance matrix: \n",
    "\n",
    "$$\n",
    "\\textbf{F} = \\frac{1}{T -1}\\textbf{f}\\textbf{f}^T\n",
    "$$"
   ]
  },
  {
   "cell_type": "code",
   "execution_count": 17,
   "metadata": {},
   "outputs": [],
   "source": [
    "def factor_cov_matrix(factor_returns, ann_factor):\n",
    "    \"\"\"\n",
    "    Returns annualized factor covariance matrix\n",
    "\n",
    "    Parameters\n",
    "    ----------\n",
    "    factor_returns : DataFrame\n",
    "        Factor returns\n",
    "    ann_factor : int\n",
    "        Annualization factor\n",
    "\n",
    "    Returns\n",
    "    -------\n",
    "    factor_cov_matrix : 2 dimensional Ndarray\n",
    "        Factor covariance matrix\n",
    "    \"\"\"\n",
    "    \n",
    "    return np.diag(factor_returns.var(axis=0, ddof=1)*ann_factor)"
   ]
  },
  {
   "cell_type": "code",
   "execution_count": 18,
   "metadata": {
    "scrolled": true
   },
   "outputs": [
    {
     "data": {
      "text/plain": [
       "array([ 14.01830425,   0.        ,   0.        ,   0.        ,\n",
       "         0.        ,   0.        ,   0.        ,   0.        ,\n",
       "         0.        ,   0.        ,   0.        ,   0.        ,\n",
       "         0.        ,   0.        ,   0.        ,   0.        ,\n",
       "         0.        ,   0.        ,   0.        ,   0.        ])"
      ]
     },
     "execution_count": 18,
     "metadata": {},
     "output_type": "execute_result"
    }
   ],
   "source": [
    "ann_factor = 252\n",
    "risk_model['factor_cov_matrix'] = factor_cov_matrix(risk_model['factor_returns'], ann_factor)\n",
    "\n",
    "risk_model['factor_cov_matrix'][0]"
   ]
  },
  {
   "cell_type": "markdown",
   "metadata": {},
   "source": [
    "### Idiosyncratic Variance Matrix - $\\mathbf{S}$"
   ]
  },
  {
   "cell_type": "markdown",
   "metadata": {},
   "source": [
    "Annualized idiosyncratic variance matrix, covariance matrix of residuals $\\mathbf{s}$, and off-diagonal elements set to zero where:\n",
    "\n",
    "$$\n",
    "\\textbf{s} = \\textbf{r} - \\textbf{B}\\textbf{f}\n",
    "$$"
   ]
  },
  {
   "cell_type": "code",
   "execution_count": 19,
   "metadata": {},
   "outputs": [],
   "source": [
    "def idiosyncratic_var_matrix(returns, factor_returns, factor_betas, ann_factor):\n",
    "    \"\"\"\n",
    "    Returns the idiosyncratic variance matrix\n",
    "\n",
    "    Parameters\n",
    "    ----------\n",
    "    returns : DataFrame\n",
    "        Returns for each ticker and date\n",
    "    factor_returns : DataFrame\n",
    "        Factor returns\n",
    "    factor_betas : DataFrame\n",
    "        Factor betas\n",
    "    ann_factor : int\n",
    "        Annualization factor\n",
    "\n",
    "    Returns\n",
    "    -------\n",
    "    idiosyncratic_var_matrix : DataFrame\n",
    "        Idiosyncratic variance matrix\n",
    "    \"\"\"\n",
    "    \n",
    "    common_returns = pd.DataFrame(np.dot(factor_returns, factor_betas.T), returns.index, returns.columns)\n",
    "    residuals = returns - common_returns\n",
    "    \n",
    "    df = pd.DataFrame(np.diag(np.var(residuals))*ann_factor, returns.columns, returns.columns)\n",
    "    return df"
   ]
  },
  {
   "cell_type": "code",
   "execution_count": 20,
   "metadata": {},
   "outputs": [
    {
     "data": {
      "text/html": [
       "<div>\n",
       "<table border=\"1\" class=\"dataframe\">\n",
       "  <thead>\n",
       "    <tr style=\"text-align: right;\">\n",
       "      <th></th>\n",
       "      <th>Equity(0 [A])</th>\n",
       "      <th>Equity(1 [AAL])</th>\n",
       "      <th>Equity(2 [AAP])</th>\n",
       "      <th>Equity(3 [AAPL])</th>\n",
       "      <th>Equity(4 [ABBV])</th>\n",
       "      <th>Equity(5 [ABC])</th>\n",
       "      <th>Equity(6 [ABT])</th>\n",
       "      <th>Equity(7 [ACN])</th>\n",
       "      <th>Equity(8 [ADBE])</th>\n",
       "      <th>Equity(9 [ADI])</th>\n",
       "      <th>...</th>\n",
       "      <th>Equity(481 [XL])</th>\n",
       "      <th>Equity(482 [XLNX])</th>\n",
       "      <th>Equity(483 [XOM])</th>\n",
       "      <th>Equity(484 [XRAY])</th>\n",
       "      <th>Equity(485 [XRX])</th>\n",
       "      <th>Equity(486 [XYL])</th>\n",
       "      <th>Equity(487 [YUM])</th>\n",
       "      <th>Equity(488 [ZBH])</th>\n",
       "      <th>Equity(489 [ZION])</th>\n",
       "      <th>Equity(490 [ZTS])</th>\n",
       "    </tr>\n",
       "  </thead>\n",
       "  <tbody>\n",
       "    <tr>\n",
       "      <th>Equity(0 [A])</th>\n",
       "      <td>0.02272535</td>\n",
       "      <td>0.00000000</td>\n",
       "      <td>0.00000000</td>\n",
       "      <td>0.00000000</td>\n",
       "      <td>0.00000000</td>\n",
       "      <td>0.00000000</td>\n",
       "      <td>0.00000000</td>\n",
       "      <td>0.00000000</td>\n",
       "      <td>0.00000000</td>\n",
       "      <td>0.00000000</td>\n",
       "      <td>...</td>\n",
       "      <td>0.00000000</td>\n",
       "      <td>0.00000000</td>\n",
       "      <td>0.00000000</td>\n",
       "      <td>0.00000000</td>\n",
       "      <td>0.00000000</td>\n",
       "      <td>0.00000000</td>\n",
       "      <td>0.00000000</td>\n",
       "      <td>0.00000000</td>\n",
       "      <td>0.00000000</td>\n",
       "      <td>0.00000000</td>\n",
       "    </tr>\n",
       "    <tr>\n",
       "      <th>Equity(1 [AAL])</th>\n",
       "      <td>0.00000000</td>\n",
       "      <td>0.05190083</td>\n",
       "      <td>0.00000000</td>\n",
       "      <td>0.00000000</td>\n",
       "      <td>0.00000000</td>\n",
       "      <td>0.00000000</td>\n",
       "      <td>0.00000000</td>\n",
       "      <td>0.00000000</td>\n",
       "      <td>0.00000000</td>\n",
       "      <td>0.00000000</td>\n",
       "      <td>...</td>\n",
       "      <td>0.00000000</td>\n",
       "      <td>0.00000000</td>\n",
       "      <td>0.00000000</td>\n",
       "      <td>0.00000000</td>\n",
       "      <td>0.00000000</td>\n",
       "      <td>0.00000000</td>\n",
       "      <td>0.00000000</td>\n",
       "      <td>0.00000000</td>\n",
       "      <td>0.00000000</td>\n",
       "      <td>0.00000000</td>\n",
       "    </tr>\n",
       "    <tr>\n",
       "      <th>Equity(2 [AAP])</th>\n",
       "      <td>0.00000000</td>\n",
       "      <td>0.00000000</td>\n",
       "      <td>0.05431181</td>\n",
       "      <td>0.00000000</td>\n",
       "      <td>0.00000000</td>\n",
       "      <td>0.00000000</td>\n",
       "      <td>0.00000000</td>\n",
       "      <td>0.00000000</td>\n",
       "      <td>0.00000000</td>\n",
       "      <td>0.00000000</td>\n",
       "      <td>...</td>\n",
       "      <td>0.00000000</td>\n",
       "      <td>0.00000000</td>\n",
       "      <td>0.00000000</td>\n",
       "      <td>0.00000000</td>\n",
       "      <td>0.00000000</td>\n",
       "      <td>0.00000000</td>\n",
       "      <td>0.00000000</td>\n",
       "      <td>0.00000000</td>\n",
       "      <td>0.00000000</td>\n",
       "      <td>0.00000000</td>\n",
       "    </tr>\n",
       "    <tr>\n",
       "      <th>Equity(3 [AAPL])</th>\n",
       "      <td>0.00000000</td>\n",
       "      <td>0.00000000</td>\n",
       "      <td>0.00000000</td>\n",
       "      <td>0.04801884</td>\n",
       "      <td>0.00000000</td>\n",
       "      <td>0.00000000</td>\n",
       "      <td>0.00000000</td>\n",
       "      <td>0.00000000</td>\n",
       "      <td>0.00000000</td>\n",
       "      <td>0.00000000</td>\n",
       "      <td>...</td>\n",
       "      <td>0.00000000</td>\n",
       "      <td>0.00000000</td>\n",
       "      <td>0.00000000</td>\n",
       "      <td>0.00000000</td>\n",
       "      <td>0.00000000</td>\n",
       "      <td>0.00000000</td>\n",
       "      <td>0.00000000</td>\n",
       "      <td>0.00000000</td>\n",
       "      <td>0.00000000</td>\n",
       "      <td>0.00000000</td>\n",
       "    </tr>\n",
       "    <tr>\n",
       "      <th>Equity(4 [ABBV])</th>\n",
       "      <td>0.00000000</td>\n",
       "      <td>0.00000000</td>\n",
       "      <td>0.00000000</td>\n",
       "      <td>0.00000000</td>\n",
       "      <td>0.03040361</td>\n",
       "      <td>0.00000000</td>\n",
       "      <td>0.00000000</td>\n",
       "      <td>0.00000000</td>\n",
       "      <td>0.00000000</td>\n",
       "      <td>0.00000000</td>\n",
       "      <td>...</td>\n",
       "      <td>0.00000000</td>\n",
       "      <td>0.00000000</td>\n",
       "      <td>0.00000000</td>\n",
       "      <td>0.00000000</td>\n",
       "      <td>0.00000000</td>\n",
       "      <td>0.00000000</td>\n",
       "      <td>0.00000000</td>\n",
       "      <td>0.00000000</td>\n",
       "      <td>0.00000000</td>\n",
       "      <td>0.00000000</td>\n",
       "    </tr>\n",
       "  </tbody>\n",
       "</table>\n",
       "<p>5 rows × 490 columns</p>\n",
       "</div>"
      ],
      "text/plain": [
       "                  Equity(0 [A])  Equity(1 [AAL])  Equity(2 [AAP])  \\\n",
       "Equity(0 [A])        0.02272535       0.00000000       0.00000000   \n",
       "Equity(1 [AAL])      0.00000000       0.05190083       0.00000000   \n",
       "Equity(2 [AAP])      0.00000000       0.00000000       0.05431181   \n",
       "Equity(3 [AAPL])     0.00000000       0.00000000       0.00000000   \n",
       "Equity(4 [ABBV])     0.00000000       0.00000000       0.00000000   \n",
       "\n",
       "                  Equity(3 [AAPL])  Equity(4 [ABBV])  Equity(5 [ABC])  \\\n",
       "Equity(0 [A])           0.00000000        0.00000000       0.00000000   \n",
       "Equity(1 [AAL])         0.00000000        0.00000000       0.00000000   \n",
       "Equity(2 [AAP])         0.00000000        0.00000000       0.00000000   \n",
       "Equity(3 [AAPL])        0.04801884        0.00000000       0.00000000   \n",
       "Equity(4 [ABBV])        0.00000000        0.03040361       0.00000000   \n",
       "\n",
       "                  Equity(6 [ABT])  Equity(7 [ACN])  Equity(8 [ADBE])  \\\n",
       "Equity(0 [A])          0.00000000       0.00000000        0.00000000   \n",
       "Equity(1 [AAL])        0.00000000       0.00000000        0.00000000   \n",
       "Equity(2 [AAP])        0.00000000       0.00000000        0.00000000   \n",
       "Equity(3 [AAPL])       0.00000000       0.00000000        0.00000000   \n",
       "Equity(4 [ABBV])       0.00000000       0.00000000        0.00000000   \n",
       "\n",
       "                  Equity(9 [ADI])        ...          Equity(481 [XL])  \\\n",
       "Equity(0 [A])          0.00000000        ...                0.00000000   \n",
       "Equity(1 [AAL])        0.00000000        ...                0.00000000   \n",
       "Equity(2 [AAP])        0.00000000        ...                0.00000000   \n",
       "Equity(3 [AAPL])       0.00000000        ...                0.00000000   \n",
       "Equity(4 [ABBV])       0.00000000        ...                0.00000000   \n",
       "\n",
       "                  Equity(482 [XLNX])  Equity(483 [XOM])  Equity(484 [XRAY])  \\\n",
       "Equity(0 [A])             0.00000000         0.00000000          0.00000000   \n",
       "Equity(1 [AAL])           0.00000000         0.00000000          0.00000000   \n",
       "Equity(2 [AAP])           0.00000000         0.00000000          0.00000000   \n",
       "Equity(3 [AAPL])          0.00000000         0.00000000          0.00000000   \n",
       "Equity(4 [ABBV])          0.00000000         0.00000000          0.00000000   \n",
       "\n",
       "                  Equity(485 [XRX])  Equity(486 [XYL])  Equity(487 [YUM])  \\\n",
       "Equity(0 [A])            0.00000000         0.00000000         0.00000000   \n",
       "Equity(1 [AAL])          0.00000000         0.00000000         0.00000000   \n",
       "Equity(2 [AAP])          0.00000000         0.00000000         0.00000000   \n",
       "Equity(3 [AAPL])         0.00000000         0.00000000         0.00000000   \n",
       "Equity(4 [ABBV])         0.00000000         0.00000000         0.00000000   \n",
       "\n",
       "                  Equity(488 [ZBH])  Equity(489 [ZION])  Equity(490 [ZTS])  \n",
       "Equity(0 [A])            0.00000000          0.00000000         0.00000000  \n",
       "Equity(1 [AAL])          0.00000000          0.00000000         0.00000000  \n",
       "Equity(2 [AAP])          0.00000000          0.00000000         0.00000000  \n",
       "Equity(3 [AAPL])         0.00000000          0.00000000         0.00000000  \n",
       "Equity(4 [ABBV])         0.00000000          0.00000000         0.00000000  \n",
       "\n",
       "[5 rows x 490 columns]"
      ]
     },
     "execution_count": 20,
     "metadata": {},
     "output_type": "execute_result"
    }
   ],
   "source": [
    "risk_model['idiosyncratic_var_matrix'] = idiosyncratic_var_matrix(five_year_returns, risk_model['factor_returns'], risk_model['factor_betas'], ann_factor)\n",
    "\n",
    "risk_model['idiosyncratic_var_matrix'][:5]"
   ]
  },
  {
   "cell_type": "markdown",
   "metadata": {},
   "source": [
    "### Idiosyncratic Variance Vector"
   ]
  },
  {
   "cell_type": "code",
   "execution_count": 21,
   "metadata": {},
   "outputs": [],
   "source": [
    "def idiosyncratic_var_vector(returns, idiosyncratic_var_matrix):\n",
    "    \"\"\"\n",
    "    Returns the idiosyncratic variance vector\n",
    "\n",
    "    Parameters\n",
    "    ----------\n",
    "    returns : DataFrame\n",
    "        Returns for each ticker and date\n",
    "    idiosyncratic_var_matrix : DataFrame\n",
    "        Idiosyncratic variance matrix\n",
    "\n",
    "    Returns\n",
    "    -------\n",
    "    idiosyncratic_var_vector : DataFrame\n",
    "        Idiosyncratic variance Vector\n",
    "    \"\"\"\n",
    "    \n",
    "    df = pd.DataFrame(np.diag(idiosyncratic_var_matrix.values), index=returns.columns)\n",
    "    \n",
    "    return df"
   ]
  },
  {
   "cell_type": "code",
   "execution_count": 22,
   "metadata": {},
   "outputs": [
    {
     "data": {
      "text/html": [
       "<div>\n",
       "<table border=\"1\" class=\"dataframe\">\n",
       "  <thead>\n",
       "    <tr style=\"text-align: right;\">\n",
       "      <th></th>\n",
       "      <th>0</th>\n",
       "    </tr>\n",
       "  </thead>\n",
       "  <tbody>\n",
       "    <tr>\n",
       "      <th>Equity(0 [A])</th>\n",
       "      <td>0.02272535</td>\n",
       "    </tr>\n",
       "    <tr>\n",
       "      <th>Equity(1 [AAL])</th>\n",
       "      <td>0.05190083</td>\n",
       "    </tr>\n",
       "    <tr>\n",
       "      <th>Equity(2 [AAP])</th>\n",
       "      <td>0.05431181</td>\n",
       "    </tr>\n",
       "    <tr>\n",
       "      <th>Equity(3 [AAPL])</th>\n",
       "      <td>0.04801884</td>\n",
       "    </tr>\n",
       "    <tr>\n",
       "      <th>Equity(4 [ABBV])</th>\n",
       "      <td>0.03040361</td>\n",
       "    </tr>\n",
       "  </tbody>\n",
       "</table>\n",
       "</div>"
      ],
      "text/plain": [
       "                          0\n",
       "Equity(0 [A])    0.02272535\n",
       "Equity(1 [AAL])  0.05190083\n",
       "Equity(2 [AAP])  0.05431181\n",
       "Equity(3 [AAPL]) 0.04801884\n",
       "Equity(4 [ABBV]) 0.03040361"
      ]
     },
     "execution_count": 22,
     "metadata": {},
     "output_type": "execute_result"
    }
   ],
   "source": [
    "risk_model['idiosyncratic_var_vector'] = idiosyncratic_var_vector(five_year_returns, risk_model['idiosyncratic_var_matrix'])\n",
    "\n",
    "risk_model['idiosyncratic_var_vector'][:5]"
   ]
  },
  {
   "cell_type": "markdown",
   "metadata": {},
   "source": [
    "### Portfolio Risk"
   ]
  },
  {
   "cell_type": "markdown",
   "metadata": {},
   "source": [
    "$\\sigma_p =  \\sqrt{X^{T}(BFB^{T} + S)X}$\n",
    "- $ X $ is the portfolio weights\n",
    "- $ B $ is the factor betas\n",
    "- $ F $ is the factor covariance matrix\n",
    "- $ S $ is the idiosyncratic variance matrix"
   ]
  },
  {
   "cell_type": "code",
   "execution_count": 23,
   "metadata": {},
   "outputs": [],
   "source": [
    "def predict_portfolio_risk(factor_betas, factor_cov_matrix, idiosyncratic_var_matrix, weights):\n",
    "    \"\"\"\n",
    "    Returns predicted portfolio risk\n",
    "    \n",
    "    Formula for predicted portfolio risk is sqrt(X.T(BFB.T + S)X) where:\n",
    "      X is the portfolio weights\n",
    "      B is the factor betas\n",
    "      F is the factor covariance matrix\n",
    "      S is the idiosyncratic variance matrix\n",
    "\n",
    "    Parameters\n",
    "    ----------\n",
    "    factor_betas : DataFrame\n",
    "        Factor betas\n",
    "    factor_cov_matrix : 2 dimensional Ndarray\n",
    "        Factor covariance matrix\n",
    "    idiosyncratic_var_matrix : DataFrame\n",
    "        Idiosyncratic variance matrix\n",
    "    weights : DataFrame\n",
    "        Portfolio weights\n",
    "\n",
    "    Returns\n",
    "    -------\n",
    "    predicted_portfolio_risk : float\n",
    "        Predicted portfolio risk\n",
    "    \"\"\"\n",
    "    assert len(factor_cov_matrix.shape) == 2\n",
    "    \n",
    "    port_var = np.dot(np.dot(weights.T, (np.dot(np.dot(factor_betas, factor_cov_matrix), factor_betas.T) + idiosyncratic_var_matrix)), weights)\n",
    "    port_risk = np.sqrt(port_var[0][0])\n",
    "    \n",
    "    return port_risk"
   ]
  },
  {
   "cell_type": "markdown",
   "metadata": {},
   "source": [
    "Equal weighted portfolio risk:"
   ]
  },
  {
   "cell_type": "code",
   "execution_count": 24,
   "metadata": {},
   "outputs": [
    {
     "data": {
      "text/plain": [
       "0.16094824687040474"
      ]
     },
     "execution_count": 24,
     "metadata": {},
     "output_type": "execute_result"
    }
   ],
   "source": [
    "all_weights = pd.DataFrame(np.repeat(1/len(universe_tickers), len(universe_tickers)), universe_tickers)\n",
    "\n",
    "predict_portfolio_risk(\n",
    "    risk_model['factor_betas'],\n",
    "    risk_model['factor_cov_matrix'],\n",
    "    risk_model['idiosyncratic_var_matrix'],\n",
    "    all_weights)"
   ]
  },
  {
   "cell_type": "markdown",
   "metadata": {},
   "source": [
    "## Alpha Factors\n",
    "---"
   ]
  },
  {
   "cell_type": "markdown",
   "metadata": {},
   "source": [
    "**1. 1 Yr Momentum**\n",
    "\n",
    "\"Higher past 12-month (252 days) returns are proportional to future return.\""
   ]
  },
  {
   "cell_type": "code",
   "execution_count": 25,
   "metadata": {},
   "outputs": [],
   "source": [
    "from zipline.pipeline.factors import Returns\n",
    "\n",
    "def momentum_1yr(window_length, universe, sector):\n",
    "    return Returns(window_length=window_length, mask=universe) \\\n",
    "        .demean(groupby=sector) \\\n",
    "        .rank() \\\n",
    "        .zscore()"
   ]
  },
  {
   "cell_type": "markdown",
   "metadata": {},
   "source": [
    "**2. Mean Reversion - 5 day sector neutral**\n",
    "\n",
    "\"Short-term outperformers(underperformers) compared to their sector will revert.\""
   ]
  },
  {
   "cell_type": "code",
   "execution_count": 26,
   "metadata": {},
   "outputs": [],
   "source": [
    "def mean_reversion_5day_sector_neutral(window_length, universe, sector):\n",
    "    \"\"\"\n",
    "    Generates the mean reversion 5 day sector neutral factor\n",
    "\n",
    "    Parameters\n",
    "    ----------\n",
    "    window_length : int\n",
    "        Returns window length\n",
    "    universe : Zipline Filter\n",
    "        Universe of stocks filter\n",
    "    sector : Zipline Classifier\n",
    "        Sector classifier\n",
    "\n",
    "    Returns\n",
    "    -------\n",
    "    factor : Zipline Factor\n",
    "        Mean reversion 5 day sector neutral factor\n",
    "    \"\"\"\n",
    "    factor = Returns(window_length=window_length, mask=universe).demean(groupby=sector).rank().zscore()\n",
    "    \n",
    "    return factor*-1"
   ]
  },
  {
   "cell_type": "markdown",
   "metadata": {},
   "source": [
    "**Note:** *Going back 2 years falls on a day when the market is closed. Pipeline package doesn't handle start or end dates that don't fall on days when the market is open. To fix this, went back 2 extra days*"
   ]
  },
  {
   "cell_type": "code",
   "execution_count": 27,
   "metadata": {},
   "outputs": [
    {
     "data": {
      "text/html": [
       "<div>\n",
       "<table border=\"1\" class=\"dataframe\">\n",
       "  <thead>\n",
       "    <tr style=\"text-align: right;\">\n",
       "      <th></th>\n",
       "      <th></th>\n",
       "      <th>Mean_Reversion_5Day_Sector_Neutral</th>\n",
       "    </tr>\n",
       "  </thead>\n",
       "  <tbody>\n",
       "    <tr>\n",
       "      <th rowspan=\"5\" valign=\"top\">2014-01-03 00:00:00+00:00</th>\n",
       "      <th>Equity(0 [A])</th>\n",
       "      <td>0.85326482</td>\n",
       "    </tr>\n",
       "    <tr>\n",
       "      <th>Equity(1 [AAL])</th>\n",
       "      <td>1.62630815</td>\n",
       "    </tr>\n",
       "    <tr>\n",
       "      <th>Equity(2 [AAP])</th>\n",
       "      <td>0.64906469</td>\n",
       "    </tr>\n",
       "    <tr>\n",
       "      <th>Equity(3 [AAPL])</th>\n",
       "      <td>1.40752230</td>\n",
       "    </tr>\n",
       "    <tr>\n",
       "      <th>Equity(4 [ABBV])</th>\n",
       "      <td>1.45857233</td>\n",
       "    </tr>\n",
       "  </tbody>\n",
       "</table>\n",
       "</div>"
      ],
      "text/plain": [
       "                                            Mean_Reversion_5Day_Sector_Neutral\n",
       "2014-01-03 00:00:00+00:00 Equity(0 [A])                             0.85326482\n",
       "                          Equity(1 [AAL])                           1.62630815\n",
       "                          Equity(2 [AAP])                           0.64906469\n",
       "                          Equity(3 [AAPL])                          1.40752230\n",
       "                          Equity(4 [ABBV])                          1.45857233"
      ]
     },
     "execution_count": 27,
     "metadata": {},
     "output_type": "execute_result"
    }
   ],
   "source": [
    "factor_start_date = universe_end_date - pd.DateOffset(years=2, days=2)\n",
    "sector = putils.Sector()\n",
    "window_length = 5\n",
    "\n",
    "pipeline = Pipeline(screen=universe)\n",
    "pipeline.add(\n",
    "    mean_reversion_5day_sector_neutral(window_length, universe, sector),\n",
    "    'Mean_Reversion_5Day_Sector_Neutral')\n",
    "engine.run_pipeline(pipeline, factor_start_date, universe_end_date)[:5]"
   ]
  },
  {
   "cell_type": "markdown",
   "metadata": {},
   "source": [
    "**3. Mean Reversion - 5 day sector neutral - smoothed**"
   ]
  },
  {
   "cell_type": "code",
   "execution_count": 28,
   "metadata": {},
   "outputs": [],
   "source": [
    "from zipline.pipeline.factors import SimpleMovingAverage\n",
    "\n",
    "def mean_reversion_5day_sector_neutral_smoothed(window_length, universe, sector):\n",
    "    \"\"\"\n",
    "    Generates the mean reversion 5 day sector neutral smoothed factor\n",
    "\n",
    "    Parameters\n",
    "    ----------\n",
    "    window_length : int\n",
    "        Returns window length\n",
    "    universe : Zipline Filter\n",
    "        Universe of stocks filter\n",
    "    sector : Zipline Classifier\n",
    "        Sector classifier\n",
    "\n",
    "    Returns\n",
    "    -------\n",
    "    factor : Zipline Factor\n",
    "        Mean reversion 5 day sector neutral smoothed factor\n",
    "    \"\"\"\n",
    "    factor = mean_reversion_5day_sector_neutral(window_length, universe, sector)\n",
    "    \n",
    "    factor_smoothed = SimpleMovingAverage(inputs=[factor], window_length=window_length).rank().zscore()\n",
    "\n",
    "    return factor_smoothed"
   ]
  },
  {
   "cell_type": "code",
   "execution_count": 29,
   "metadata": {},
   "outputs": [
    {
     "data": {
      "text/html": [
       "<div>\n",
       "<table border=\"1\" class=\"dataframe\">\n",
       "  <thead>\n",
       "    <tr style=\"text-align: right;\">\n",
       "      <th></th>\n",
       "      <th></th>\n",
       "      <th>Mean_Reversion_5Day_Sector_Neutral_Smoothed</th>\n",
       "    </tr>\n",
       "  </thead>\n",
       "  <tbody>\n",
       "    <tr>\n",
       "      <th rowspan=\"5\" valign=\"top\">2014-01-03 00:00:00+00:00</th>\n",
       "      <th>Equity(0 [A])</th>\n",
       "      <td>1.11580784</td>\n",
       "    </tr>\n",
       "    <tr>\n",
       "      <th>Equity(1 [AAL])</th>\n",
       "      <td>1.72840822</td>\n",
       "    </tr>\n",
       "    <tr>\n",
       "      <th>Equity(2 [AAP])</th>\n",
       "      <td>1.34188655</td>\n",
       "    </tr>\n",
       "    <tr>\n",
       "      <th>Equity(3 [AAPL])</th>\n",
       "      <td>0.91160771</td>\n",
       "    </tr>\n",
       "    <tr>\n",
       "      <th>Equity(4 [ABBV])</th>\n",
       "      <td>0.96265774</td>\n",
       "    </tr>\n",
       "  </tbody>\n",
       "</table>\n",
       "</div>"
      ],
      "text/plain": [
       "                                            Mean_Reversion_5Day_Sector_Neutral_Smoothed\n",
       "2014-01-03 00:00:00+00:00 Equity(0 [A])                                      1.11580784\n",
       "                          Equity(1 [AAL])                                    1.72840822\n",
       "                          Equity(2 [AAP])                                    1.34188655\n",
       "                          Equity(3 [AAPL])                                   0.91160771\n",
       "                          Equity(4 [ABBV])                                   0.96265774"
      ]
     },
     "execution_count": 29,
     "metadata": {},
     "output_type": "execute_result"
    }
   ],
   "source": [
    "pipeline = Pipeline(screen=universe)\n",
    "pipeline.add(\n",
    "    mean_reversion_5day_sector_neutral_smoothed(5, universe, sector),\n",
    "    'Mean_Reversion_5Day_Sector_Neutral_Smoothed')\n",
    "engine.run_pipeline(pipeline, factor_start_date, universe_end_date)[:5]"
   ]
  },
  {
   "cell_type": "markdown",
   "metadata": {},
   "source": [
    "**4. Overnight Sentiment** using the hypothesis from the paper [_Overnight Returns and Firm-Specific Investor Sentiment_](https://papers.ssrn.com/sol3/papers.cfm?abstract_id=2554010)\n",
    " - The finding discussed in detail is that Trailing 5-day Overnight returns exhibit both momentum (persistence) and mean-reversion. Stocks with high weekly overnight returns outperform for up to 4 weeks. Then exhibit mean-reversion.\n"
   ]
  },
  {
   "cell_type": "code",
   "execution_count": 30,
   "metadata": {},
   "outputs": [],
   "source": [
    "from zipline.pipeline.data import USEquityPricing\n",
    "\n",
    "\n",
    "class CTO(Returns):\n",
    "    \"\"\"\n",
    "    Computes the overnight return, per hypothesis from\n",
    "    https://papers.ssrn.com/sol3/papers.cfm?abstract_id=2554010\n",
    "    \"\"\"\n",
    "    inputs = [USEquityPricing.open, USEquityPricing.close]\n",
    "    \n",
    "    def compute(self, today, assets, out, opens, closes):\n",
    "        \"\"\"\n",
    "        The opens and closes matrix is 2 rows x N assets, with the most recent at the bottom.\n",
    "        opens[-1] is the most recent open, and closes[0] is the earlier close\n",
    "        \"\"\"\n",
    "        out[:] = (opens[-1] - closes[0]) / closes[0]\n",
    "\n",
    "        \n",
    "class TrailingOvernightReturns(Returns):\n",
    "    \"\"\"\n",
    "    Sum of trailing 1m O/N returns\n",
    "    \"\"\"\n",
    "    window_safe = True\n",
    "    \n",
    "    def compute(self, today, asset_ids, out, cto):\n",
    "        out[:] = np.nansum(cto, axis=0)\n",
    "\n",
    "        \n",
    "def overnight_sentiment(cto_window_length, trail_overnight_returns_window_length, universe):\n",
    "    cto_out = CTO(mask=universe, window_length=cto_window_length)\n",
    "    return TrailingOvernightReturns(inputs=[cto_out], window_length=trail_overnight_returns_window_length) \\\n",
    "        .rank() \\\n",
    "        .zscore()"
   ]
  },
  {
   "cell_type": "markdown",
   "metadata": {},
   "source": [
    "**5. Overnight Sentiment Smoothed**"
   ]
  },
  {
   "cell_type": "code",
   "execution_count": 31,
   "metadata": {},
   "outputs": [],
   "source": [
    "def overnight_sentiment_smoothed(cto_window_length, trail_overnight_returns_window_length, universe):\n",
    "    unsmoothed_factor = overnight_sentiment(cto_window_length, trail_overnight_returns_window_length, universe)\n",
    "    return SimpleMovingAverage(inputs=[unsmoothed_factor], window_length=trail_overnight_returns_window_length) \\\n",
    "        .rank() \\\n",
    "        .zscore()"
   ]
  },
  {
   "cell_type": "markdown",
   "metadata": {},
   "source": [
    "### Adding the Factors to Pipeline"
   ]
  },
  {
   "cell_type": "code",
   "execution_count": 32,
   "metadata": {},
   "outputs": [
    {
     "data": {
      "text/html": [
       "<div>\n",
       "<table border=\"1\" class=\"dataframe\">\n",
       "  <thead>\n",
       "    <tr style=\"text-align: right;\">\n",
       "      <th></th>\n",
       "      <th></th>\n",
       "      <th>Mean_Reversion_5Day_Sector_Neutral</th>\n",
       "      <th>Mean_Reversion_5Day_Sector_Neutral_Smoothed</th>\n",
       "      <th>Momentum_1YR</th>\n",
       "      <th>Overnight_Sentiment</th>\n",
       "      <th>Overnight_Sentiment_Smoothed</th>\n",
       "    </tr>\n",
       "  </thead>\n",
       "  <tbody>\n",
       "    <tr>\n",
       "      <th rowspan=\"5\" valign=\"top\">2014-01-03 00:00:00+00:00</th>\n",
       "      <th>Equity(0 [A])</th>\n",
       "      <td>0.85326482</td>\n",
       "      <td>1.11580784</td>\n",
       "      <td>1.49939067</td>\n",
       "      <td>0.70659131</td>\n",
       "      <td>1.11242837</td>\n",
       "    </tr>\n",
       "    <tr>\n",
       "      <th>Equity(1 [AAL])</th>\n",
       "      <td>1.62630815</td>\n",
       "      <td>1.72840822</td>\n",
       "      <td>1.60279693</td>\n",
       "      <td>-1.70668978</td>\n",
       "      <td>-1.72843105</td>\n",
       "    </tr>\n",
       "    <tr>\n",
       "      <th>Equity(2 [AAP])</th>\n",
       "      <td>0.64906469</td>\n",
       "      <td>1.34188655</td>\n",
       "      <td>0.37669421</td>\n",
       "      <td>0.03261191</td>\n",
       "      <td>-0.62687332</td>\n",
       "    </tr>\n",
       "    <tr>\n",
       "      <th>Equity(3 [AAPL])</th>\n",
       "      <td>1.40752230</td>\n",
       "      <td>0.91160771</td>\n",
       "      <td>-1.48461835</td>\n",
       "      <td>-1.67770142</td>\n",
       "      <td>0.53990823</td>\n",
       "    </tr>\n",
       "    <tr>\n",
       "      <th>Equity(4 [ABBV])</th>\n",
       "      <td>1.45857233</td>\n",
       "      <td>0.96265774</td>\n",
       "      <td>0.91588396</td>\n",
       "      <td>-1.47478289</td>\n",
       "      <td>-0.06160027</td>\n",
       "    </tr>\n",
       "  </tbody>\n",
       "</table>\n",
       "</div>"
      ],
      "text/plain": [
       "                                            Mean_Reversion_5Day_Sector_Neutral  \\\n",
       "2014-01-03 00:00:00+00:00 Equity(0 [A])                             0.85326482   \n",
       "                          Equity(1 [AAL])                           1.62630815   \n",
       "                          Equity(2 [AAP])                           0.64906469   \n",
       "                          Equity(3 [AAPL])                          1.40752230   \n",
       "                          Equity(4 [ABBV])                          1.45857233   \n",
       "\n",
       "                                            Mean_Reversion_5Day_Sector_Neutral_Smoothed  \\\n",
       "2014-01-03 00:00:00+00:00 Equity(0 [A])                                      1.11580784   \n",
       "                          Equity(1 [AAL])                                    1.72840822   \n",
       "                          Equity(2 [AAP])                                    1.34188655   \n",
       "                          Equity(3 [AAPL])                                   0.91160771   \n",
       "                          Equity(4 [ABBV])                                   0.96265774   \n",
       "\n",
       "                                            Momentum_1YR  Overnight_Sentiment  \\\n",
       "2014-01-03 00:00:00+00:00 Equity(0 [A])       1.49939067           0.70659131   \n",
       "                          Equity(1 [AAL])     1.60279693          -1.70668978   \n",
       "                          Equity(2 [AAP])     0.37669421           0.03261191   \n",
       "                          Equity(3 [AAPL])   -1.48461835          -1.67770142   \n",
       "                          Equity(4 [ABBV])    0.91588396          -1.47478289   \n",
       "\n",
       "                                            Overnight_Sentiment_Smoothed  \n",
       "2014-01-03 00:00:00+00:00 Equity(0 [A])                       1.11242837  \n",
       "                          Equity(1 [AAL])                    -1.72843105  \n",
       "                          Equity(2 [AAP])                    -0.62687332  \n",
       "                          Equity(3 [AAPL])                    0.53990823  \n",
       "                          Equity(4 [ABBV])                   -0.06160027  "
      ]
     },
     "execution_count": 32,
     "metadata": {},
     "output_type": "execute_result"
    }
   ],
   "source": [
    "universe = AverageDollarVolume(window_length=120).top(500)\n",
    "sector = putils.Sector()\n",
    "\n",
    "pipeline = Pipeline(screen=universe)\n",
    "pipeline.add(\n",
    "    momentum_1yr(252, universe, sector),\n",
    "    'Momentum_1YR')\n",
    "pipeline.add(\n",
    "    mean_reversion_5day_sector_neutral(5, universe, sector),\n",
    "    'Mean_Reversion_5Day_Sector_Neutral')\n",
    "pipeline.add(\n",
    "    mean_reversion_5day_sector_neutral_smoothed(5, universe, sector),\n",
    "    'Mean_Reversion_5Day_Sector_Neutral_Smoothed')\n",
    "pipeline.add(\n",
    "    overnight_sentiment(2, 5, universe),\n",
    "    'Overnight_Sentiment')\n",
    "pipeline.add(\n",
    "    overnight_sentiment_smoothed(2, 5, universe),\n",
    "    'Overnight_Sentiment_Smoothed')\n",
    "all_factors = engine.run_pipeline(pipeline, factor_start_date, universe_end_date)\n",
    "\n",
    "all_factors.head()"
   ]
  },
  {
   "cell_type": "markdown",
   "metadata": {},
   "source": [
    "## Alpha Factor Evaluation\n",
    "---"
   ]
  },
  {
   "cell_type": "markdown",
   "metadata": {},
   "source": [
    "Pricing Data"
   ]
  },
  {
   "cell_type": "code",
   "execution_count": 33,
   "metadata": {},
   "outputs": [],
   "source": [
    "import alphalens as al\n",
    "\n",
    "assets = all_factors.index.levels[1].values.tolist()\n",
    "pricing = get_pricing(\n",
    "    data_portal,\n",
    "    trading_calendar,\n",
    "    assets,\n",
    "    factor_start_date,\n",
    "    universe_end_date)"
   ]
  },
  {
   "cell_type": "markdown",
   "metadata": {},
   "source": [
    "Many of the alphalens functions require the indices to be aligned and converted to unix timestamp"
   ]
  },
  {
   "cell_type": "code",
   "execution_count": 35,
   "metadata": {},
   "outputs": [
    {
     "name": "stdout",
     "output_type": "stream",
     "text": [
      "Dropped 1.2% entries from factor data: 1.2% in forward returns computation and 0.0% in binning phase (set max_loss=0 to see potentially suppressed Exceptions).\n",
      "max_loss is 35.0%, not exceeded: OK!\n",
      "Dropped 1.2% entries from factor data: 1.2% in forward returns computation and 0.0% in binning phase (set max_loss=0 to see potentially suppressed Exceptions).\n",
      "max_loss is 35.0%, not exceeded: OK!\n",
      "Dropped 2.3% entries from factor data: 2.3% in forward returns computation and 0.0% in binning phase (set max_loss=0 to see potentially suppressed Exceptions).\n",
      "max_loss is 35.0%, not exceeded: OK!\n",
      "Dropped 0.4% entries from factor data: 0.4% in forward returns computation and 0.0% in binning phase (set max_loss=0 to see potentially suppressed Exceptions).\n",
      "max_loss is 35.0%, not exceeded: OK!\n",
      "Dropped 0.4% entries from factor data: 0.4% in forward returns computation and 0.0% in binning phase (set max_loss=0 to see potentially suppressed Exceptions).\n",
      "max_loss is 35.0%, not exceeded: OK!\n"
     ]
    }
   ],
   "source": [
    "clean_factor_data = {\n",
    "    factor: al.utils.get_clean_factor_and_forward_returns(factor=factor_data, prices=pricing, periods=[1])\n",
    "    for factor, factor_data in all_factors.iteritems()}\n",
    "\n",
    "unixt_factor_data = {\n",
    "    factor: factor_data.set_index(pd.MultiIndex.from_tuples(\n",
    "        [(x.timestamp(), y) for x, y in factor_data.index.values],\n",
    "        names=['date', 'asset']))\n",
    "    for factor, factor_data in clean_factor_data.items()}"
   ]
  },
  {
   "cell_type": "code",
   "execution_count": 49,
   "metadata": {},
   "outputs": [
    {
     "data": {
      "text/html": [
       "<div>\n",
       "<table border=\"1\" class=\"dataframe\">\n",
       "  <thead>\n",
       "    <tr style=\"text-align: right;\">\n",
       "      <th></th>\n",
       "      <th></th>\n",
       "      <th>1D</th>\n",
       "      <th>factor</th>\n",
       "      <th>factor_quantile</th>\n",
       "    </tr>\n",
       "    <tr>\n",
       "      <th>date</th>\n",
       "      <th>asset</th>\n",
       "      <th></th>\n",
       "      <th></th>\n",
       "      <th></th>\n",
       "    </tr>\n",
       "  </thead>\n",
       "  <tbody>\n",
       "    <tr>\n",
       "      <th rowspan=\"5\" valign=\"top\">2014-01-06 00:00:00+00:00</th>\n",
       "      <th>Equity(0 [A])</th>\n",
       "      <td>0.01516805</td>\n",
       "      <td>1.52154916</td>\n",
       "      <td>5</td>\n",
       "    </tr>\n",
       "    <tr>\n",
       "      <th>Equity(1 [AAL])</th>\n",
       "      <td>-0.00464920</td>\n",
       "      <td>1.57325228</td>\n",
       "      <td>5</td>\n",
       "    </tr>\n",
       "    <tr>\n",
       "      <th>Equity(2 [AAP])</th>\n",
       "      <td>0.01234256</td>\n",
       "      <td>0.59827904</td>\n",
       "      <td>4</td>\n",
       "    </tr>\n",
       "    <tr>\n",
       "      <th>Equity(3 [AAPL])</th>\n",
       "      <td>-0.00716334</td>\n",
       "      <td>-1.46984603</td>\n",
       "      <td>1</td>\n",
       "    </tr>\n",
       "    <tr>\n",
       "      <th>Equity(4 [ABBV])</th>\n",
       "      <td>0.00199754</td>\n",
       "      <td>1.00451789</td>\n",
       "      <td>4</td>\n",
       "    </tr>\n",
       "  </tbody>\n",
       "</table>\n",
       "</div>"
      ],
      "text/plain": [
       "                                                    1D      factor  \\\n",
       "date                      asset                                      \n",
       "2014-01-06 00:00:00+00:00 Equity(0 [A])     0.01516805  1.52154916   \n",
       "                          Equity(1 [AAL])  -0.00464920  1.57325228   \n",
       "                          Equity(2 [AAP])   0.01234256  0.59827904   \n",
       "                          Equity(3 [AAPL]) -0.00716334 -1.46984603   \n",
       "                          Equity(4 [ABBV])  0.00199754  1.00451789   \n",
       "\n",
       "                                            factor_quantile  \n",
       "date                      asset                              \n",
       "2014-01-06 00:00:00+00:00 Equity(0 [A])                   5  \n",
       "                          Equity(1 [AAL])                 5  \n",
       "                          Equity(2 [AAP])                 4  \n",
       "                          Equity(3 [AAPL])                1  \n",
       "                          Equity(4 [ABBV])                4  "
      ]
     },
     "execution_count": 49,
     "metadata": {},
     "output_type": "execute_result"
    }
   ],
   "source": [
    "clean_factor_data['Momentum_1YR'][:5]"
   ]
  },
  {
   "cell_type": "code",
   "execution_count": 51,
   "metadata": {},
   "outputs": [
    {
     "data": {
      "text/html": [
       "<div>\n",
       "<table border=\"1\" class=\"dataframe\">\n",
       "  <thead>\n",
       "    <tr style=\"text-align: right;\">\n",
       "      <th></th>\n",
       "      <th></th>\n",
       "      <th>1D</th>\n",
       "      <th>factor</th>\n",
       "      <th>factor_quantile</th>\n",
       "    </tr>\n",
       "    <tr>\n",
       "      <th>date</th>\n",
       "      <th>asset</th>\n",
       "      <th></th>\n",
       "      <th></th>\n",
       "      <th></th>\n",
       "    </tr>\n",
       "  </thead>\n",
       "  <tbody>\n",
       "    <tr>\n",
       "      <th rowspan=\"5\" valign=\"top\">1388966400.00000000</th>\n",
       "      <th>Equity(0 [A])</th>\n",
       "      <td>0.01516805</td>\n",
       "      <td>-0.82409337</td>\n",
       "      <td>2</td>\n",
       "    </tr>\n",
       "    <tr>\n",
       "      <th>Equity(1 [AAL])</th>\n",
       "      <td>-0.00464920</td>\n",
       "      <td>-1.70652963</td>\n",
       "      <td>1</td>\n",
       "    </tr>\n",
       "    <tr>\n",
       "      <th>Equity(2 [AAP])</th>\n",
       "      <td>0.01234256</td>\n",
       "      <td>-1.56796526</td>\n",
       "      <td>1</td>\n",
       "    </tr>\n",
       "    <tr>\n",
       "      <th>Equity(3 [AAPL])</th>\n",
       "      <td>-0.00716334</td>\n",
       "      <td>1.70652963</td>\n",
       "      <td>5</td>\n",
       "    </tr>\n",
       "    <tr>\n",
       "      <th>Equity(4 [ABBV])</th>\n",
       "      <td>0.00199754</td>\n",
       "      <td>0.19690727</td>\n",
       "      <td>3</td>\n",
       "    </tr>\n",
       "  </tbody>\n",
       "</table>\n",
       "</div>"
      ],
      "text/plain": [
       "                                              1D      factor  factor_quantile\n",
       "date                asset                                                    \n",
       "1388966400.00000000 Equity(0 [A])     0.01516805 -0.82409337                2\n",
       "                    Equity(1 [AAL])  -0.00464920 -1.70652963                1\n",
       "                    Equity(2 [AAP])   0.01234256 -1.56796526                1\n",
       "                    Equity(3 [AAPL]) -0.00716334  1.70652963                5\n",
       "                    Equity(4 [ABBV])  0.00199754  0.19690727                3"
      ]
     },
     "execution_count": 51,
     "metadata": {},
     "output_type": "execute_result"
    }
   ],
   "source": [
    "unixt_factor_data['Mean_Reversion_5Day_Sector_Neutral'][:5]"
   ]
  },
  {
   "cell_type": "markdown",
   "metadata": {},
   "source": [
    "### Quantile Analysis"
   ]
  },
  {
   "cell_type": "code",
   "execution_count": 36,
   "metadata": {},
   "outputs": [
    {
     "data": {
      "text/plain": [
       "<matplotlib.axes._subplots.AxesSubplot at 0x7f1fd3878f60>"
      ]
     },
     "execution_count": 36,
     "metadata": {},
     "output_type": "execute_result"
    },
    {
     "data": {
      "image/png": "[encoded data removed]",
      "text/plain": [
       "<matplotlib.figure.Figure at 0x7f1fd3878a58>"
      ]
     },
     "metadata": {
      "needs_background": "light"
     },
     "output_type": "display_data"
    }
   ],
   "source": [
    "ls_factor_returns = pd.DataFrame()\n",
    "\n",
    "for factor, factor_data in clean_factor_data.items():\n",
    "    ls_factor_returns[factor] = al.performance.factor_returns(factor_data).iloc[:, 0]\n",
    "\n",
    "(1+ls_factor_returns).cumprod().plot()"
   ]
  },
  {
   "cell_type": "markdown",
   "metadata": {},
   "source": [
    "Basis Points Per Day per Quantile"
   ]
  },
  {
   "cell_type": "code",
   "execution_count": 46,
   "metadata": {},
   "outputs": [
    {
     "data": {
      "text/plain": [
       "array([[<matplotlib.axes._subplots.AxesSubplot object at 0x7f1fd2f20320>,\n",
       "        <matplotlib.axes._subplots.AxesSubplot object at 0x7f1fd2e23358>],\n",
       "       [<matplotlib.axes._subplots.AxesSubplot object at 0x7f1fd2f49e48>,\n",
       "        <matplotlib.axes._subplots.AxesSubplot object at 0x7f1fd2edc438>],\n",
       "       [<matplotlib.axes._subplots.AxesSubplot object at 0x7f1fd2d18c50>,\n",
       "        <matplotlib.axes._subplots.AxesSubplot object at 0x7f1fd2d18c88>],\n",
       "       [<matplotlib.axes._subplots.AxesSubplot object at 0x7f1fd2db45c0>,\n",
       "        <matplotlib.axes._subplots.AxesSubplot object at 0x7f1fd2de6160>]], dtype=object)"
      ]
     },
     "execution_count": 46,
     "metadata": {},
     "output_type": "execute_result"
    },
    {
     "data": {
      "image/png": "[encoded data removed]",
      "text/plain": [
       "<matplotlib.figure.Figure at 0x7f1fd2eba860>"
      ]
     },
     "metadata": {
      "needs_background": "light"
     },
     "output_type": "display_data"
    }
   ],
   "source": [
    "qr_factor_returns = pd.DataFrame()\n",
    "\n",
    "for factor, factor_data in unixt_factor_data.items():\n",
    "    qr_factor_returns[factor] = al.performance.mean_return_by_quantile(factor_data)[0].iloc[:, 0]\n",
    "\n",
    "(10000*qr_factor_returns).plot.bar(\n",
    "    subplots=True,\n",
    "    sharey=True,\n",
    "    layout=(4,2),\n",
    "    figsize=(14, 14),\n",
    "    legend=False)"
   ]
  },
  {
   "cell_type": "markdown",
   "metadata": {},
   "source": [
    "- None of these alphas are **strictly monotonic**\n",
    "- The majority of the return is coming from the **short side**  - availability and cost concerns\n",
    "- Return spreads (Q1 - Q5) hovers around 3 basis points (0.03%) *before all transaction costs, shorting costs, etc.*. Assuming 252 days in a year, that's 7.56% return annualized."
   ]
  },
  {
   "cell_type": "markdown",
   "metadata": {},
   "source": [
    "### Rank IC"
   ]
  },
  {
   "cell_type": "code",
   "execution_count": 57,
   "metadata": {},
   "outputs": [
    {
     "data": {
      "text/plain": [
       "<matplotlib.axes._subplots.AxesSubplot at 0x7f1fd29734a8>"
      ]
     },
     "execution_count": 57,
     "metadata": {},
     "output_type": "execute_result"
    },
    {
     "data": {
      "image/png": "[encoded data removed]",
      "text/plain": [
       "<matplotlib.figure.Figure at 0x7f1fd2a20748>"
      ]
     },
     "metadata": {
      "needs_background": "light"
     },
     "output_type": "display_data"
    }
   ],
   "source": [
    "factor_ic = pd.DataFrame()\n",
    "\n",
    "for factor, factor_data in clean_factor_data.items():\n",
    "    factor_ic[factor] = al.performance.factor_information_coefficient(factor_data).iloc[:, 0]\n",
    "    \n",
    "factor_ic[['Momentum_1YR', 'Overnight_Sentiment_Smoothed']].plot(title=\"rank IC\", figsize=(8, 8))"
   ]
  },
  {
   "cell_type": "markdown",
   "metadata": {},
   "source": [
    "### FRA (Turnover analysis)"
   ]
  },
  {
   "cell_type": "markdown",
   "metadata": {},
   "source": [
    "Stability of alphas over time"
   ]
  },
  {
   "cell_type": "code",
   "execution_count": 59,
   "metadata": {},
   "outputs": [
    {
     "data": {
      "text/plain": [
       "<matplotlib.axes._subplots.AxesSubplot at 0x7f1fd28cacc0>"
      ]
     },
     "execution_count": 59,
     "metadata": {},
     "output_type": "execute_result"
    },
    {
     "data": {
      "image/png": "[encoded data removed]",
      "text/plain": [
       "<matplotlib.figure.Figure at 0x7f1fd2b37978>"
      ]
     },
     "metadata": {
      "needs_background": "light"
     },
     "output_type": "display_data"
    }
   ],
   "source": [
    "ls_FRA = pd.DataFrame()\n",
    "\n",
    "for factor, factor_data in unixt_factor_data.items():\n",
    "    ls_FRA[factor] = al.performance.factor_rank_autocorrelation(factor_data)\n",
    "\n",
    "ls_FRA.plot(title=\"Factor Rank Autocorrelation\", figsize=(8, 8))"
   ]
  },
  {
   "cell_type": "markdown",
   "metadata": {},
   "source": [
    "### Sharpe Ratio"
   ]
  },
  {
   "cell_type": "code",
   "execution_count": 61,
   "metadata": {},
   "outputs": [],
   "source": [
    "def sharpe_ratio(factor_returns, annualization_factor):\n",
    "    \"\"\"\n",
    "    Returns the sharpe ratio for each factor for the entire period\n",
    "\n",
    "    Parameters\n",
    "    ----------\n",
    "    factor_returns : DataFrame\n",
    "        Factor returns for each factor and date\n",
    "    annualization_factor: float\n",
    "        Annualization Factor\n",
    "\n",
    "    Returns\n",
    "    -------\n",
    "    sharpe_ratio : Pandas Series of floats\n",
    "        Sharpe ratio\n",
    "    \"\"\"\n",
    "    \n",
    "    sharpe = pd.Series(factor_returns.mean()*annualization_factor/factor_returns.std())\n",
    "    \n",
    "    return sharpe"
   ]
  },
  {
   "cell_type": "code",
   "execution_count": 62,
   "metadata": {},
   "outputs": [
    {
     "data": {
      "text/plain": [
       "Mean_Reversion_5Day_Sector_Neutral            1.37000000\n",
       "Mean_Reversion_5Day_Sector_Neutral_Smoothed   1.27000000\n",
       "Momentum_1YR                                  1.13000000\n",
       "Overnight_Sentiment                           0.12000000\n",
       "Overnight_Sentiment_Smoothed                  0.45000000\n",
       "dtype: float64"
      ]
     },
     "execution_count": 62,
     "metadata": {},
     "output_type": "execute_result"
    }
   ],
   "source": [
    "daily_annualization_factor = np.sqrt(252)\n",
    "sharpe_ratio(ls_factor_returns, daily_annualization_factor).round(2)"
   ]
  },
  {
   "cell_type": "markdown",
   "metadata": {},
   "source": [
    "### Combined Alpha Vector"
   ]
  },
  {
   "cell_type": "markdown",
   "metadata": {},
   "source": [
    "Simple average of the alpha scores across `Mean_Reversion_5Day_Sector_Neutral_Smoothed`, `Momentum_1YR`, `Overnight_Sentiment_Smoothed`"
   ]
  },
  {
   "cell_type": "code",
   "execution_count": 63,
   "metadata": {},
   "outputs": [
    {
     "name": "stdout",
     "output_type": "stream",
     "text": [
      "Selected Factors: Mean_Reversion_5Day_Sector_Neutral_Smoothed, Momentum_1YR, Overnight_Sentiment_Smoothed\n"
     ]
    },
    {
     "data": {
      "text/html": [
       "<div>\n",
       "<table border=\"1\" class=\"dataframe\">\n",
       "  <thead>\n",
       "    <tr style=\"text-align: right;\">\n",
       "      <th></th>\n",
       "      <th>alpha_vector</th>\n",
       "    </tr>\n",
       "  </thead>\n",
       "  <tbody>\n",
       "    <tr>\n",
       "      <th>Equity(0 [A])</th>\n",
       "      <td>-0.58642457</td>\n",
       "    </tr>\n",
       "    <tr>\n",
       "      <th>Equity(1 [AAL])</th>\n",
       "      <td>-0.45333845</td>\n",
       "    </tr>\n",
       "    <tr>\n",
       "      <th>Equity(2 [AAP])</th>\n",
       "      <td>-0.69993898</td>\n",
       "    </tr>\n",
       "    <tr>\n",
       "      <th>Equity(3 [AAPL])</th>\n",
       "      <td>-0.06790952</td>\n",
       "    </tr>\n",
       "    <tr>\n",
       "      <th>Equity(4 [ABBV])</th>\n",
       "      <td>-1.21617871</td>\n",
       "    </tr>\n",
       "  </tbody>\n",
       "</table>\n",
       "</div>"
      ],
      "text/plain": [
       "                  alpha_vector\n",
       "Equity(0 [A])      -0.58642457\n",
       "Equity(1 [AAL])    -0.45333845\n",
       "Equity(2 [AAP])    -0.69993898\n",
       "Equity(3 [AAPL])   -0.06790952\n",
       "Equity(4 [ABBV])   -1.21617871"
      ]
     },
     "execution_count": 63,
     "metadata": {},
     "output_type": "execute_result"
    }
   ],
   "source": [
    "selected_factors = all_factors.columns[[1, 2, 4]]\n",
    "print('Selected Factors: {}'.format(', '.join(selected_factors)))\n",
    "\n",
    "all_factors['alpha_vector'] = all_factors[selected_factors].mean(axis=1)\n",
    "alphas = all_factors[['alpha_vector']]\n",
    "alpha_vector = alphas.loc[all_factors.index.get_level_values(0)[-1]]\n",
    "alpha_vector.head()"
   ]
  },
  {
   "cell_type": "markdown",
   "metadata": {},
   "source": [
    "## Portfolio Optimization\n",
    "---"
   ]
  },
  {
   "cell_type": "markdown",
   "metadata": {},
   "source": [
    "### Approach 1. Maximize Alpha with Constraint on Risk"
   ]
  },
  {
   "cell_type": "markdown",
   "metadata": {},
   "source": [
    "$$\n",
    "\\text { objective: minimize }-\\alpha^{T} \\mathbf{x}, \\text { with a constraint on risk: }-\\mathbf{x}^{T}\\left(\\mathbf{B}^{T} \\mathbf{F} \\mathbf{B}+\\mathbf{S}\\right) \\mathbf{x}\\leq risk_{\\text{cap}}^2\n",
    "$$\n",
    " - $\\alpha$: subset of factors that is the alpha factors\n",
    " - $\\mathbf{x}$: portfolio weights\n",
    "\n",
    "Other constraints:\n",
    " - $ B^T * \\mathbf{x} \\preceq factor_{\\text{max}} $ - max factor exposure\n",
    " - $ B^T * \\mathbf{x}  \\succeq factor_{\\text{min}}$ - min factor exposure\n",
    " - $ \\mathbf{x}^T\\mathbb{1} = 0 $ - market neutral\n",
    " - $ \\|\\mathbf{x} \\|_1 \\leq 1 $ - leverage constraint\n",
    " - $ \\mathbf{x}  \\succeq weights_{\\text{min}} $ - min individual holding weight\n",
    " - $ \\mathbf{x} \\preceq weights_{\\text{max}} $ - max individual holding weight"
   ]
  },
  {
   "cell_type": "code",
   "execution_count": 65,
   "metadata": {},
   "outputs": [],
   "source": [
    "class OptimalHoldings():\n",
    "    def _get_obj(self, weights, alpha_vector):\n",
    "        \"\"\"\n",
    "        Returns the objective function\n",
    "\n",
    "        Parameters\n",
    "        ----------\n",
    "        weights : CVXPY Variable\n",
    "            Portfolio weights\n",
    "        alpha_vector : DataFrame\n",
    "            Alpha vector\n",
    "\n",
    "        Returns\n",
    "        -------\n",
    "        objective : CVXPY Objective\n",
    "            Objective function\n",
    "        \"\"\"\n",
    "        assert(len(alpha_vector.columns) == 1)\n",
    "\n",
    "        obj = cvx.Minimize(-alpha_vector.values.flatten()*weights)\n",
    "        \n",
    "        return obj\n",
    "    \n",
    "    def _get_constraints(self, weights, factor_betas, risk):\n",
    "        \"\"\"\n",
    "        Returns the constraints\n",
    "\n",
    "        Parameters\n",
    "        ----------\n",
    "        weights : CVXPY Variable\n",
    "            Portfolio weights\n",
    "        factor_betas : 2 dimensional Ndarray\n",
    "            Factor betas\n",
    "        risk: CVXPY Atom\n",
    "            Predicted variance of the portfolio returns\n",
    "\n",
    "        Returns\n",
    "        -------\n",
    "        constraints : List of CVXPY Constraint\n",
    "            Constraints\n",
    "        \"\"\"\n",
    "        assert(len(factor_betas.shape) == 2)\n",
    "        \n",
    "        constraints = [\n",
    "            risk <= self.risk_cap**2, \n",
    "            factor_betas.T*weights <= self.factor_max, \n",
    "            factor_betas.T*weights >= self.factor_min,\n",
    "            sum(weights) == 0.0,\n",
    "            sum(cvx.abs(weights)) <= 1.0,\n",
    "            weights >= self.weights_min, \n",
    "            weights <= self.weights_max\n",
    "        ]\n",
    "        \n",
    "        return constraints\n",
    "\n",
    "    def _get_risk(self, weights, factor_betas, alpha_vector_index, factor_cov_matrix, idiosyncratic_var_vector):\n",
    "        f = factor_betas.loc[alpha_vector_index].values.T * weights\n",
    "        X = factor_cov_matrix\n",
    "        S = np.diag(idiosyncratic_var_vector.loc[alpha_vector_index].values.flatten())\n",
    "\n",
    "        return cvx.quad_form(f, X) + cvx.quad_form(weights, S)\n",
    "    \n",
    "    def find(self, alpha_vector, factor_betas, factor_cov_matrix, idiosyncratic_var_vector):\n",
    "        weights = cvx.Variable(len(alpha_vector))\n",
    "        risk = self._get_risk(weights, factor_betas, alpha_vector.index, factor_cov_matrix, idiosyncratic_var_vector)\n",
    "        \n",
    "        obj = self._get_obj(weights, alpha_vector)\n",
    "        constraints = self._get_constraints(weights, factor_betas.loc[alpha_vector.index].values, risk)\n",
    "        \n",
    "        prob = cvx.Problem(obj, constraints)\n",
    "        prob.solve(max_iters=500)\n",
    "\n",
    "        optimal_weights = np.asarray(weights.value).flatten()\n",
    "        \n",
    "        return pd.DataFrame(data=optimal_weights, index=alpha_vector.index)\n",
    "    \n",
    "    def __init__(self, risk_cap=0.05, factor_max=10.0, factor_min=-10.0, weights_max=0.55, weights_min=-0.55):\n",
    "        self.risk_cap=risk_cap\n",
    "        self.factor_max=factor_max\n",
    "        self.factor_min=factor_min\n",
    "        self.weights_max=weights_max\n",
    "        self.weights_min=weights_min"
   ]
  },
  {
   "cell_type": "markdown",
   "metadata": {},
   "source": [
    "Issue here portfolio is not diversified at all"
   ]
  },
  {
   "cell_type": "code",
   "execution_count": 66,
   "metadata": {},
   "outputs": [
    {
     "name": "stderr",
     "output_type": "stream",
     "text": [
      "/opt/conda/lib/python3.6/site-packages/matplotlib/cbook/deprecation.py:106: MatplotlibDeprecationWarning: Adding an axes using the same arguments as a previous axes currently reuses the earlier instance.  In a future version, a new instance will always be created and returned.  Meanwhile, this warning can be suppressed, and the future behavior ensured, by passing a unique label to each axes instance.\n",
      "  warnings.warn(message, mplDeprecation, stacklevel=1)\n"
     ]
    },
    {
     "data": {
      "image/png": "[encoded data removed]",
      "text/plain": [
       "<matplotlib.figure.Figure at 0x7f1fd28132e8>"
      ]
     },
     "metadata": {
      "needs_background": "light"
     },
     "output_type": "display_data"
    }
   ],
   "source": [
    "optimal_weights = OptimalHoldings().find(alpha_vector, risk_model['factor_betas'], risk_model['factor_cov_matrix'], risk_model['idiosyncratic_var_vector'])\n",
    "\n",
    "optimal_weights.plot.bar(legend=None, title='Portfolio % Holdings by Stock')\n",
    "x_axis = plt.axes().get_xaxis()\n",
    "x_axis.set_visible(False)"
   ]
  },
  {
   "cell_type": "code",
   "execution_count": 94,
   "metadata": {},
   "outputs": [
    {
     "name": "stdout",
     "output_type": "stream",
     "text": [
      "The transfer coefficient is 0.19751449952642713\n"
     ]
    }
   ],
   "source": [
    "from scipy.stats.stats import pearsonr\n",
    "def transfer_coefficient(alpha_vector, optimized_weights):\n",
    "   \n",
    "    transfer_coefficient, pvalue = pearsonr(alpha_vector, optimized_weights)\n",
    "    return transfer_coefficient\n",
    "\n",
    "transfer_coefficient(alpha_vector.values, optimal_weights.values)\n",
    "\n",
    "print(\"The transfer coefficient is {}\".format(transfer_coefficient(alpha_vector.values, optimal_weights.values)[0])) "
   ]
  },
  {
   "cell_type": "code",
   "execution_count": 75,
   "metadata": {},
   "outputs": [
    {
     "data": {
      "text/plain": [
       "<matplotlib.axes._subplots.AxesSubplot at 0x7f1fd0d36390>"
      ]
     },
     "execution_count": 75,
     "metadata": {},
     "output_type": "execute_result"
    },
    {
     "data": {
      "image/png": "[encoded data removed]",
      "text/plain": [
       "<matplotlib.figure.Figure at 0x7f1fd0d64e80>"
      ]
     },
     "metadata": {
      "needs_background": "light"
     },
     "output_type": "display_data"
    }
   ],
   "source": [
    "putils.get_factor_exposures(risk_model['factor_betas'], optimal_weights).plot.bar(\n",
    "    title='Portfolio Net Factor Exposures',\n",
    "    legend=False)"
   ]
  },
  {
   "cell_type": "markdown",
   "metadata": {},
   "source": [
    "### Approach 2. Optimize with Regularization Parameter"
   ]
  },
  {
   "cell_type": "markdown",
   "metadata": {},
   "source": [
    "$\\lambda$ enforces diversification\n",
    "\n",
    "$$\n",
    "\\text { objective: minimize }-\\alpha^{T} \\mathbf{x}+\\lambda\\|\\mathbf{x}\\|_{2}, \\text { with a constraint on risk: }-\\mathbf{x}^{T}\\left(\\mathbf{B}^{T} \\mathbf{F} \\mathbf{B}+\\mathbf{S}\\right) \\mathbf{x} \\leq risk_{\\text{cap}}^2\n",
    "$$"
   ]
  },
  {
   "cell_type": "code",
   "execution_count": 72,
   "metadata": {},
   "outputs": [],
   "source": [
    "class OptimalHoldingsRegualization(OptimalHoldings):\n",
    "    def _get_obj(self, weights, alpha_vector):\n",
    "        \"\"\"\n",
    "        Returns the objective function with regularization\n",
    "\n",
    "        Parameters\n",
    "        ----------\n",
    "        weights : CVXPY Variable\n",
    "            Portfolio weights\n",
    "        alpha_vector : DataFrame\n",
    "            Alpha vector\n",
    "\n",
    "        Returns\n",
    "        -------\n",
    "        objective : CVXPY Objective\n",
    "            Objective function\n",
    "        \"\"\"\n",
    "        assert(len(alpha_vector.columns) == 1)\n",
    "        \n",
    "        obj = cvx.Minimize(-alpha_vector.values.flatten()*weights + self.lambda_reg*cvx.norm(weights, p=2, axis=None))\n",
    "        \n",
    "        return obj\n",
    "\n",
    "    def __init__(self, lambda_reg=0.5, risk_cap=0.05, factor_max=10.0, factor_min=-10.0, weights_max=0.55, weights_min=-0.55):\n",
    "        self.lambda_reg = lambda_reg\n",
    "        self.risk_cap=risk_cap\n",
    "        self.factor_max=factor_max\n",
    "        self.factor_min=factor_min\n",
    "        self.weights_max=weights_max\n",
    "        self.weights_min=weights_min"
   ]
  },
  {
   "cell_type": "markdown",
   "metadata": {},
   "source": [
    "Achieves better diversification"
   ]
  },
  {
   "cell_type": "code",
   "execution_count": 73,
   "metadata": {},
   "outputs": [
    {
     "name": "stderr",
     "output_type": "stream",
     "text": [
      "/opt/conda/lib/python3.6/site-packages/matplotlib/cbook/deprecation.py:106: MatplotlibDeprecationWarning: Adding an axes using the same arguments as a previous axes currently reuses the earlier instance.  In a future version, a new instance will always be created and returned.  Meanwhile, this warning can be suppressed, and the future behavior ensured, by passing a unique label to each axes instance.\n",
      "  warnings.warn(message, mplDeprecation, stacklevel=1)\n"
     ]
    },
    {
     "data": {
      "image/png": "[encoded data removed]",
      "text/plain": [
       "<matplotlib.figure.Figure at 0x7f1fd1e24b38>"
      ]
     },
     "metadata": {
      "needs_background": "light"
     },
     "output_type": "display_data"
    }
   ],
   "source": [
    "optimal_weights_1 = OptimalHoldingsRegualization(lambda_reg=5.0).find(alpha_vector, risk_model['factor_betas'], risk_model['factor_cov_matrix'], risk_model['idiosyncratic_var_vector'])\n",
    "\n",
    "optimal_weights_1.plot.bar(legend=None, title='Portfolio % Holdings by Stock')\n",
    "x_axis = plt.axes().get_xaxis()\n",
    "x_axis.set_visible(False)"
   ]
  },
  {
   "cell_type": "code",
   "execution_count": 95,
   "metadata": {},
   "outputs": [
    {
     "name": "stdout",
     "output_type": "stream",
     "text": [
      "The transfer coefficient is 0.7680218093459014\n"
     ]
    }
   ],
   "source": [
    "print(\"The transfer coefficient is {}\".format(transfer_coefficient(alpha_vector.values, optimal_weights_1.values)[0])) "
   ]
  },
  {
   "cell_type": "code",
   "execution_count": 74,
   "metadata": {},
   "outputs": [
    {
     "data": {
      "text/plain": [
       "<matplotlib.axes._subplots.AxesSubplot at 0x7f1fd0fa8080>"
      ]
     },
     "execution_count": 74,
     "metadata": {},
     "output_type": "execute_result"
    },
    {
     "data": {
      "image/png": "[encoded data removed]",
      "text/plain": [
       "<matplotlib.figure.Figure at 0x7f1fd14fd2b0>"
      ]
     },
     "metadata": {
      "needs_background": "light"
     },
     "output_type": "display_data"
    }
   ],
   "source": [
    "putils.get_factor_exposures(risk_model['factor_betas'], optimal_weights_1).plot.bar(\n",
    "    title='Portfolio Net Factor Exposures',\n",
    "    legend=False)"
   ]
  },
  {
   "cell_type": "markdown",
   "metadata": {},
   "source": [
    "### Approach 3. Optimize with Strict Factor Constraints & Target Weighting"
   ]
  },
  {
   "cell_type": "markdown",
   "metadata": {},
   "source": [
    "Common alternative to regularization if that doesn't produce satisfactory results\n",
    "\n",
    "$$\n",
    "\\text { objective: minimize }\\left\\|\\mathbf{x}-\\mathbf{x}^{*}\\right\\|, \\text { with a constraint on risk: }-\\mathbf{x}^{T}\\left(\\mathbf{B}^{T} \\mathbf{F} \\mathbf{B}+\\mathbf{S}\\right) \\mathbf{x} \\leq risk_{\\text{cap}}^2\n",
    "$$\n",
    "\n",
    "where $\\mathbf{x}^{*}$ is target weighting"
   ]
  },
  {
   "cell_type": "code",
   "execution_count": 77,
   "metadata": {},
   "outputs": [],
   "source": [
    "class OptimalHoldingsStrictFactor(OptimalHoldings):\n",
    "    def _get_obj(self, weights, alpha_vector):\n",
    "        \"\"\"\n",
    "        Get the objective function\n",
    "\n",
    "        Parameters\n",
    "        ----------\n",
    "        weights : CVXPY Variable\n",
    "            Portfolio weights\n",
    "        alpha_vector : DataFrame\n",
    "            Alpha vector\n",
    "\n",
    "        Returns\n",
    "        -------\n",
    "        objective : CVXPY Objective\n",
    "            Objective function\n",
    "        \"\"\"\n",
    "        assert(len(alpha_vector.columns) == 1)\n",
    "        \n",
    "        target = (alpha_vector-alpha_vector.mean())/alpha_vector.abs().sum()\n",
    "        target = target.values.flatten()\n",
    "        \n",
    "        obj = cvx.Minimize(cvx.norm(weights-target, p=2, axis=None))\n",
    "        \n",
    "        return obj"
   ]
  },
  {
   "cell_type": "code",
   "execution_count": 78,
   "metadata": {},
   "outputs": [
    {
     "name": "stderr",
     "output_type": "stream",
     "text": [
      "/opt/conda/lib/python3.6/site-packages/matplotlib/cbook/deprecation.py:106: MatplotlibDeprecationWarning: Adding an axes using the same arguments as a previous axes currently reuses the earlier instance.  In a future version, a new instance will always be created and returned.  Meanwhile, this warning can be suppressed, and the future behavior ensured, by passing a unique label to each axes instance.\n",
      "  warnings.warn(message, mplDeprecation, stacklevel=1)\n"
     ]
    },
    {
     "data": {
      "image/png": "[encoded data removed]",
      "text/plain": [
       "<matplotlib.figure.Figure at 0x7f1fd06242e8>"
      ]
     },
     "metadata": {
      "needs_background": "light"
     },
     "output_type": "display_data"
    }
   ],
   "source": [
    "optimal_weights_2 = OptimalHoldingsStrictFactor(\n",
    "    weights_max=0.02,\n",
    "    weights_min=-0.02,\n",
    "    risk_cap=0.0015,\n",
    "    factor_max=0.015,\n",
    "    factor_min=-0.015).find(alpha_vector, risk_model['factor_betas'], risk_model['factor_cov_matrix'], risk_model['idiosyncratic_var_vector'])\n",
    "\n",
    "optimal_weights_2.plot.bar(legend=None, title='Portfolio % Holdings by Stock')\n",
    "x_axis = plt.axes().get_xaxis()\n",
    "x_axis.set_visible(False)"
   ]
  },
  {
   "cell_type": "markdown",
   "metadata": {},
   "source": [
    "transfer coefficient will be naturally high since the target weight is the alpha vector itself"
   ]
  },
  {
   "cell_type": "code",
   "execution_count": 97,
   "metadata": {},
   "outputs": [
    {
     "name": "stdout",
     "output_type": "stream",
     "text": [
      "The transfer coefficient is 0.9998090046606518\n"
     ]
    }
   ],
   "source": [
    "print(\"The transfer coefficient is {}\".format(transfer_coefficient(alpha_vector.values, optimal_weights_2.values)[0])) "
   ]
  },
  {
   "cell_type": "code",
   "execution_count": 79,
   "metadata": {},
   "outputs": [
    {
     "data": {
      "text/plain": [
       "<matplotlib.axes._subplots.AxesSubplot at 0x7f1fd0482278>"
      ]
     },
     "execution_count": 79,
     "metadata": {},
     "output_type": "execute_result"
    },
    {
     "data": {
      "image/png": "[encoded data removed]",
      "text/plain": [
       "<matplotlib.figure.Figure at 0x7f1fd17dba20>"
      ]
     },
     "metadata": {
      "needs_background": "light"
     },
     "output_type": "display_data"
    }
   ],
   "source": [
    "putils.get_factor_exposures(risk_model['factor_betas'], optimal_weights_2).plot.bar(\n",
    "    title='Portfolio Net Factor Exposures',\n",
    "    legend=False)"
   ]
  }
 ],
 "metadata": {
  "kernelspec": {
   "display_name": "Python 3",
   "language": "python",
   "name": "python3"
  },
  "language_info": {
   "codemirror_mode": {
    "name": "ipython",
    "version": 3
   },
   "file_extension": ".py",
   "mimetype": "text/x-python",
   "name": "python",
   "nbconvert_exporter": "python",
   "pygments_lexer": "ipython3",
   "version": "3.6.6"
  },
  "toc": {
   "base_numbering": 1,
   "nav_menu": {},
   "number_sections": true,
   "sideBar": true,
   "skip_h1_title": true,
   "title_cell": "Muti-factor Model",
   "title_sidebar": "Contents",
   "toc_cell": true,
   "toc_position": {},
   "toc_section_display": true,
   "toc_window_display": true
  },
  "varInspector": {
   "cols": {
    "lenName": 16,
    "lenType": 16,
    "lenVar": 40
   },
   "kernels_config": {
    "python": {
     "delete_cmd_postfix": "",
     "delete_cmd_prefix": "del ",
     "library": "var_list.py",
     "varRefreshCmd": "print(var_dic_list())"
    },
    "r": {
     "delete_cmd_postfix": ") ",
     "delete_cmd_prefix": "rm(",
     "library": "var_list.r",
     "varRefreshCmd": "cat(var_dic_list()) "
    }
   },
   "types_to_exclude": [
    "module",
    "function",
    "builtin_function_or_method",
    "instance",
    "_Feature"
   ],
   "window_display": false
  }
 },
 "nbformat": 4,
 "nbformat_minor": 2
}
